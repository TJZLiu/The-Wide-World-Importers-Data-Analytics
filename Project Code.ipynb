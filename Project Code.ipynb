{
 "cells": [
  {
   "cell_type": "markdown",
   "metadata": {},
   "source": [
    "<div class=\"alert alert-block alert-info\">\n",
    "<center> <h1> Big Data Modeling and Management 2022 </h1> </center> <br>\n",
    "<center> Assignment 2 - Answers for the Stakeholders (Queries) </center>"
   ]
  },
  {
   "cell_type": "markdown",
   "metadata": {},
   "source": [
    "<hr>\n",
    "<a class=\"anchor\" id=\"group\">\n",
    "    \n",
    "### Group\n",
    "    \n",
    "</a>\n",
    "\n",
    "1. Gabriel Felipe Martins de Souza   \t|   m20210598 <br>\n",
    "\n",
    "2. Luiz Humberto Polaro Vizeu\t\t    |   m20210554 <br>\n",
    "\n",
    "3. Mohamed Shamsudeen                    |   m20210707 <br>\n",
    "\n",
    "4. Rogerio Domingos Paulo\t        \t|   m20210597 <br>\n",
    "\n",
    "5. Tongjiuzhou Liu                       |   m20211012 <br>\n"
   ]
  },
  {
   "cell_type": "markdown",
   "metadata": {},
   "source": [
    "## 🚚 BDMM Second Homework Assignment 🚚 \n",
    "\n",
    "_The Wide World Importers (WWI) is a wholesales novelty goods importer and distributor operating from the San Francisco bay area. In this assignment we will be working with their database._ \n",
    "You can get more information and details about the WWI database in the following link: https://docs.microsoft.com/en-us/sql/samples/wide-world-importers-what-is?view=sql-server-ver15\n",
    "\n",
    "The focus of the second assignment is modelling. We will use the World Wide Importers database and convert it to a document-based database. To that end, we will be leveraging concepts like data denormalization, indices, and mongodb design patterns. \n",
    "\n",
    "More information on the extended datamodel to be found here: </br>  \n",
    "https://docs.microsoft.com/en-us/sql/samples/wide-world-importers-oltp-database-catalog?view=sql-server-ver15"
   ]
  },
  {
   "cell_type": "markdown",
   "metadata": {},
   "source": [
    "## Problem Description\n",
    "\n",
    "Your team has just arrived at WWI (a leading company in logistics). Welcome!   <br>\n",
    "Even though business is thriving, the IT department is going through a bad time.   <br>\n",
    "Digitalization was never a priority for the company and now the company operational and analytical requirements are starting to grow beyond the capabilities of their existing data architecture.   <br>\n",
    "\n",
    "WWI data are spread accross different systems, but we've already managed to pull them all into a mongo dump file. This data file is an exact dump of the SQL data so includes all the same structure, the SQL tables become collections and the rows become documents. This means all the original SQL keys are included in the data.<br>\n",
    "Currently, the costs to develop the necessary queries to collect data to answer questions asked by the different departments are too high. <br>\n",
    "\n",
    "Management concluded it is the right time to revise and revamp the data architecture, in order to speed up operations. \n",
    "\n",
    "In that context, your team was tasked with merging all the company data into a single and coherent Mongo database. <br>\n",
    "It is expected that, with your solution, WWI will have a better understanding of their business and that the different departments will be able to obtain efficiently the answers they need.\n",
    "\n",
    "The WWI team shared with you an ERD of their current datamodel:<br>\n",
    "![datamodel](./WWI.png)"
   ]
  },
  {
   "cell_type": "markdown",
   "metadata": {},
   "source": [
    "**Note** You can open the file WWI.png that is in the same directory as this notebook to see the above image in more detail and zoom in as you need.\n",
    "\n",
    "Addtionally, the WWI team asked you the deliver the following outputs in **4 weeks**:\n",
    "- Understand and model the database in MongoDB.\n",
    "- Setup the database so that it is performs well for the queries they have provided. You should include reasoning in comments for the decisions you make on modelling the database.\n",
    "- Answer the questions (queries) on the data provided.  \n",
    "- Submit the results by following the instructions.  \n",
    "\n",
    "With these deliveries, you will have created a prototype and allows the management to decide whether MongoDB is a good solution that meets their requirements."
   ]
  },
  {
   "cell_type": "markdown",
   "metadata": {},
   "source": [
    "### Design Requirements\n",
    "\n",
    "Note that WWI has the following query requirements for the database.\n",
    "\n",
    "1. The web team needs to know:  \n",
    "    1. Which state province do we have the most suppliers in?  \n",
    "    2. How many people have three or more `OtherLanguage`? \n",
    "    3. Top 10 most common `OtherLanguage` for people records. \n",
    "    4. How many customer records are valid after `November 2015`? \n",
    "    5. What percentage of people records don't have the UserPreferences field? \n",
    "\n",
    "2. The warehouse group needs to know:  \n",
    "    1. What is the average difference in days between OrderDate and ExpectedDeliveryDate for orders sold by (`SalespersonPersonID`) person with the name `Jack Potter`?\n",
    "    2. Which items get ordered the most in bulk (largest average quantity ordered)?  \n",
    "    3. Which two items get ordered together the most?\n",
    "    4. For each customer category which 3 items have the ordered the most?\n",
    "    5. What is the current stock of each stockgroup?\n",
    "\n",
    "3. The CFO needs to know:  \n",
    "    1. What is the monthly total order count for each month?  \n",
    "    2. How many orders are there from the customer `Tailspin Toys (Head Office)`?\n",
    "    3. What are the average monthly sales prices of all goods sold? \n",
    "    4. In each state province what is the average customer credit limit?   \n",
    "    5. What are the yearly expenditures with each supplier (per supplier name)?  \n",
    "\n",
    "4. Partnerships needs to know:  \n",
    "    1. What is the most common payment type?  \n",
    "    2. What percentage of people have their `Title` as `Team Member`?\n",
    "    3. Which supplier of the category `Novelty Goods Supplier` has the most transactions?  \n",
    "    4. What is the highest `CommissionRate` that a person has?\n",
    "\n",
    "5. The marketing team needs to know:  \n",
    "    1. What is the name of the sales person with the largest sum of invoice values in 2013 (person whose customers paid the most money)?\n",
    "    2. Who are the most common `PickedByPersonID` person names for orders done by customer `Adriana Pena`?\n",
    "    3. How many people have in their name the string `Sara`?\n",
    "    5. What are the top 10 most Common Names (Primary or Surnames) of people?\n",
    "\n",
    "Transform the mongo dump file provided with this notebook and model a database following mongodb's best practices. You should adjust the data model to best fit the use cases provided above. Think about collections, embedding, linking, indexing, and the patterns learned in class. Provide justifications for each decision you make. What, if any, are the trade-off's or disadvantages of your approach.\n",
    "\n",
    "Use MongoDB queries to answer the questions on your transformed database.\n",
    "\n",
    "### Deliverables\n",
    "\n",
    "1. Notebook with all DB creation operations and CRUD operations to create the data model. **Important** you should include in comments justification for your decisions on modelling the data.;\n",
    "2. Second notebook with all required queries and answers for the questions, **Important** please indicate with comments the steps in the data model you took to optimise each query;\n"
   ]
  },
  {
   "cell_type": "markdown",
   "metadata": {},
   "source": [
    "# Additional Information\n",
    "\n",
    "## Groups  \n",
    "\n",
    "Students should form groups of at least 4 and at most 5. <br>\n",
    "\n",
    "## Submission  Deadline\n",
    "\n",
    "The submission includes two notebooks with outputs (cells must be run). \n",
    "Please make sure to indicate:\n",
    "1. group number,\n",
    "2. group members with student names and numbers,\n",
    "3. the name of the database that you created. <br>\n",
    "\n",
    "Upload the notebook on moodle before **23:59 on June 22nd**\n",
    "\n",
    "## Evaluation   \n",
    "\n",
    "The second homework assignment counts 40% towards your final mark of the curricular unit. <br>\n",
    "The assignment will be scored from 0 to 20. <br>\n",
    "\n",
    "Each group submission will be evaluated on three components:\n",
    "1. correctness of results;\n",
    "2. simplicity and performance characteristics of the solution;\n",
    "3. justification of decisions.\n",
    "\n",
    "50% -  Database design  \n",
    "50% -  Query results including performance\n",
    "\n",
    "Please note that all code delivered in this assignment will go through plagiarism automated checks. <br>\n",
    "Groups with high similarity levels in their code will undergo investigation.\n"
   ]
  },
  {
   "cell_type": "code",
   "execution_count": 27,
   "metadata": {},
   "outputs": [],
   "source": [
    "#importing libraries to connect and run mongoDB methods\n",
    "from pymongo import MongoClient\n",
    "from bson.objectid import ObjectId\n",
    "from pprint import pprint"
   ]
  },
  {
   "cell_type": "code",
   "execution_count": 28,
   "metadata": {},
   "outputs": [],
   "source": [
    "#creating a connection with the database WideWorldImportes\n",
    "host=\"localhost\"\n",
    "port=\"27017\"\n",
    "user=\"Group_GLMRT\"\n",
    "password=\"1024\"\n",
    "protocol=\"mongodb\"\n",
    "client = MongoClient(f\"{protocol}://{user}:{password}@{host}:{port}\")\n",
    "db = client.WideWorldImporters"
   ]
  },
  {
   "cell_type": "markdown",
   "metadata": {},
   "source": [
    "# 1. The web team needs:\n",
    "## A- Which state province do we have the most suppliers in?"
   ]
  },
  {
   "cell_type": "markdown",
   "metadata": {},
   "source": [
    "1. We created the collection suppliers_cities_embed in the Modeling Notebook;\n",
    "2. 1st query, selected the SupplierID and the Cities, and StateProvince from the list\n",
    "3. 2nd query, grouped the results from qr1 in Stateprofince ids and summed up the number of suppliers\n",
    "4. 3rd query, sorted the number of sup. in descending order\n",
    "5. "
   ]
  },
  {
   "cell_type": "code",
   "execution_count": 29,
   "metadata": {},
   "outputs": [
    {
     "data": {
      "text/plain": [
       "[{'_id': [['California']], 'number_of_suppliers': 3}]"
      ]
     },
     "execution_count": 29,
     "metadata": {},
     "output_type": "execute_result"
    },
    {
     "data": {
      "text/plain": [
       "[{'_id': [['California']], 'number_of_suppliers': 3}]"
      ]
     },
     "execution_count": 29,
     "metadata": {},
     "output_type": "execute_result"
    }
   ],
   "source": [
    "query_1 = { #selected the SupplierID and the Cities, and StateProvince from the Cities_list created in the DW notebook\n",
    "    '$project': {'_id' : False,        \n",
    "                'SupplierID' : '$SupplierID',\n",
    "                'City' : '$Cities_list.CityName',\n",
    "                'StateProvince' : '$Cities_list.StateProvince_list.StateProvinceName',}}\n",
    "\n",
    "query_2 = { #grouped the results from query_1 in StateProvince and summed up the number of suppliers\n",
    "    '$group':\n",
    "        {'_id' : '$StateProvince', # will be groupped by this field\n",
    "         'number_of_suppliers' : {'$sum' : 1}}} # type of accumulator\n",
    "\n",
    "query_3 = { #sorted the number_of_suppliers in descending order\n",
    "    '$sort':\n",
    "        {'number_of_suppliers' : -1}} # -1 desc, 1 asc.\n",
    "\n",
    "query_4 = {'$limit': 1}\n",
    "\n",
    "pipeline = [query_1,query_2,query_3,query_4] \n",
    "    \n",
    "result = list(db.suppliers_cities_embed.aggregate(pipeline))\n",
    "\n",
    "result"
   ]
  },
  {
   "cell_type": "markdown",
   "metadata": {},
   "source": [
    "## B- How many people have three or more OtherLanguage?"
   ]
  },
  {
   "cell_type": "code",
   "execution_count": 30,
   "metadata": {},
   "outputs": [
    {
     "data": {
      "text/plain": [
       "[{'Number of people with 3 or more other languages': 4}]"
      ]
     },
     "execution_count": 30,
     "metadata": {},
     "output_type": "execute_result"
    },
    {
     "data": {
      "text/plain": [
       "[{'Number of people with 3 or more other languages': 4}]"
      ]
     },
     "execution_count": 30,
     "metadata": {},
     "output_type": "execute_result"
    }
   ],
   "source": [
    "query_1 = {#selects OtherLanguages not equal to None\n",
    "    '$match' : {\n",
    "        'OtherLanguages': {'$ne': None}\n",
    "    }    \n",
    "}\n",
    "\n",
    "query_2 = { # selects the OtherLanguages \n",
    "    '$project' : {\n",
    "        '_id' : False,\n",
    "        'OtherLanguages' : 1,\n",
    "    }\n",
    "}\n",
    "\n",
    "query_3= {#finds OtherLanguages not equal to empty\n",
    "    '$match' : {\n",
    "        'OtherLanguages': {'$ne': '[]'}\n",
    "    }    \n",
    "}\n",
    "\n",
    "query_4 = {#selects OtherLanguages, and uses trim function to remove strange character ']['\n",
    "        '$project' : {\n",
    "        '_id' : False,\n",
    "        'OtherLanguages' : {'$trim' : {'input':'$OtherLanguages','chars':']['}}\n",
    "    }\n",
    "}\n",
    "\n",
    "query_5 = { # selects OtherLanguages, and splits using comma symbol\n",
    "    '$project' : {\n",
    "        'OtherLanguages' : {'$split':['$OtherLanguages',',']}\n",
    "    }\n",
    "}\n",
    "\n",
    "query_6 = { # size of OtherLanguages array\n",
    "    '$project' : {\n",
    "        '_id' : False,\n",
    "        'OtherLanguages' : 1,\n",
    "        'number_languages' : {'$size' : '$OtherLanguages'}\n",
    "    }\n",
    "}\n",
    "\n",
    "query_7 = { #finds OtherLanguages where number_languages is greater than 3\n",
    "    '$match' : {\n",
    "        'OtherLanguages': {'$exists': True},\n",
    "        'number_languages' : {'$gte' : 3}\n",
    "    }    \n",
    "}\n",
    "\n",
    "query_8 = { # makes the count of the results from query_7\n",
    "    '$count' : 'Number of people with 3 or more other languages'\n",
    "}\n",
    "\n",
    "pipeline = [query_1,query_2,query_3,query_4,query_5,query_6,query_7,query_8]\n",
    "\n",
    "r = db.people.aggregate(pipeline)\n",
    "\n",
    "result = list(r)\n",
    "\n",
    "result"
   ]
  },
  {
   "cell_type": "markdown",
   "metadata": {},
   "source": [
    "## C- Top 10 most common OtherLanguage for people records."
   ]
  },
  {
   "cell_type": "code",
   "execution_count": 31,
   "metadata": {},
   "outputs": [
    {
     "data": {
      "text/plain": [
       "[{'_id': '\"Greek\"', 'count': 3},\n",
       " {'_id': '\"Dutch\"', 'count': 3},\n",
       " {'_id': '\"Finnish\"', 'count': 3},\n",
       " {'_id': '\"Croatian\"', 'count': 2},\n",
       " {'_id': '\"Lithuanian\"', 'count': 2},\n",
       " {'_id': '\"Arabic\"', 'count': 2},\n",
       " {'_id': '\"Slovak\"', 'count': 2},\n",
       " {'_id': '\"Polish\"', 'count': 2},\n",
       " {'_id': '\"Romanian\"', 'count': 2},\n",
       " {'_id': '\"Japanese\"', 'count': 1}]"
      ]
     },
     "execution_count": 31,
     "metadata": {},
     "output_type": "execute_result"
    },
    {
     "data": {
      "text/plain": [
       "[{'_id': '\"Greek\"', 'count': 3},\n",
       " {'_id': '\"Dutch\"', 'count': 3},\n",
       " {'_id': '\"Finnish\"', 'count': 3},\n",
       " {'_id': '\"Croatian\"', 'count': 2},\n",
       " {'_id': '\"Lithuanian\"', 'count': 2},\n",
       " {'_id': '\"Arabic\"', 'count': 2},\n",
       " {'_id': '\"Slovak\"', 'count': 2},\n",
       " {'_id': '\"Polish\"', 'count': 2},\n",
       " {'_id': '\"Romanian\"', 'count': 2},\n",
       " {'_id': '\"Japanese\"', 'count': 1}]"
      ]
     },
     "execution_count": 31,
     "metadata": {},
     "output_type": "execute_result"
    }
   ],
   "source": [
    "query_1 = {#finds OtherLanguages when it is not equal to None\n",
    "    '$match' : {\n",
    "        'OtherLanguages': {'$ne': None}\n",
    "    }    \n",
    "}\n",
    "\n",
    "query_2 = { #  selects the OtherLanguages \n",
    "    '$project' : {\n",
    "        '_id' : False,\n",
    "        'OtherLanguages' : 1,\n",
    "    }\n",
    "}\n",
    "\n",
    "query_3= { #finds OtherLanguages not equal to empty\n",
    "    '$match' : {\n",
    "        'OtherLanguages': {'$ne': '[]'}\n",
    "    }    \n",
    "}\n",
    "\n",
    "query_4 = { #selects OtherLanguages, and uses trim function to remove strange character ']['\n",
    "        '$project' : {\n",
    "        '_id' : False,\n",
    "        'OtherLanguages' : 1,\n",
    "        'OtherLanguages' : {'$trim' : {'input':'$OtherLanguages','chars':']['}}\n",
    "    }\n",
    "}\n",
    "\n",
    "query_5 = { # selects OtherLanguages, and splits using comma symbol\n",
    "    '$project' : {\n",
    "        'OtherLanguages' : 1,\n",
    "        'OtherLanguages' : {'$split':['$OtherLanguages',',']}\n",
    "    }\n",
    "}\n",
    "\n",
    "query_6 = { #Deconstruct OtherLanguages using unwind\n",
    "    '$unwind' : '$OtherLanguages'\n",
    "    }\n",
    "\n",
    "query_7 = {\n",
    "    '$group': {#Aggregates OtherLanguages using group by id and count the quantity of OtherLanguages\n",
    "        '_id': '$OtherLanguages', \n",
    "        'count' : {'$sum' : 1}            \n",
    "    }\n",
    "}\n",
    "\n",
    "query_8 = { #sorts the results in descending count\n",
    "    '$sort': {\n",
    "        'count': -1\n",
    "    }\n",
    "}\n",
    "\n",
    "\n",
    "query_9 = { #shows the 10 first outputs\n",
    "    '$limit': 10\n",
    "}\n",
    "\n",
    "\n",
    "pipeline = [query_1,query_2,query_3,query_4,query_5,query_6,query_7,query_8,query_9]\n",
    "\n",
    "r = db.people.aggregate(pipeline)\n",
    "\n",
    "result = list(r)\n",
    "\n",
    "result"
   ]
  },
  {
   "cell_type": "markdown",
   "metadata": {},
   "source": [
    "## D- How many customer records are valid after November 2015?"
   ]
  },
  {
   "cell_type": "code",
   "execution_count": 32,
   "metadata": {},
   "outputs": [
    {
     "data": {
      "text/plain": [
       "663"
      ]
     },
     "execution_count": 32,
     "metadata": {},
     "output_type": "execute_result"
    },
    {
     "data": {
      "text/plain": [
       "663"
      ]
     },
     "execution_count": 32,
     "metadata": {},
     "output_type": "execute_result"
    }
   ],
   "source": [
    "import datetime #imports datetime lib\n",
    "#finds instances of customers where the ValidTo is greater than November 2015, by parsing the date with datetime\n",
    "len(list(db.customers.find({'ValidTo':{'$gt':datetime.datetime(2015,11,30,23,59,59)}}, {'ValidTo':1, '_id':0})))"
   ]
  },
  {
   "cell_type": "markdown",
   "metadata": {},
   "source": [
    "## E- What percentage of people records don't have the UserPreferences field?"
   ]
  },
  {
   "cell_type": "code",
   "execution_count": 33,
   "metadata": {},
   "outputs": [
    {
     "name": "stdout",
     "output_type": "stream",
     "text": [
      "16%\n",
      "16%\n"
     ]
    }
   ],
   "source": [
    "#finds the length of UserPreferences not equal to None\n",
    "NoneUserPreferences = len(list(db.people.find( { 'UserPreferences' : { '$ne': None } } )))\n",
    "#finds the length of UserPreferences where exists equals False\n",
    "NoExists = len(list(db.people.find({\"UserPreferences\": {\"$exists\": False}})))\n",
    "#finds the total amount of people\n",
    "TotalNoneUserPreferences = len(list(db.people.find()))\n",
    "#retrieves the percentage in which UserPreferences field is None or Empty\n",
    "Answer = (NoneUserPreferences + NoExists) / TotalNoneUserPreferences\n",
    "#prints the output with the percentage format\n",
    "print (\"{0:.0%}\".format(Answer))"
   ]
  },
  {
   "cell_type": "markdown",
   "metadata": {},
   "source": [
    "# 2. The warehouse group needs to know:  "
   ]
  },
  {
   "cell_type": "markdown",
   "metadata": {},
   "source": [
    "## A- What is the average difference in days between OrderDate and ExpectedDeliveryDate for orders sold by (`SalespersonPersonID`) person with the name `Jack Potter`?"
   ]
  },
  {
   "cell_type": "code",
   "execution_count": 34,
   "metadata": {},
   "outputs": [
    {
     "data": {
      "text/plain": [
       "[{'Average Days between Expected Delivery Date and Order Date is': 16948.2}]"
      ]
     },
     "execution_count": 34,
     "metadata": {},
     "output_type": "execute_result"
    },
    {
     "data": {
      "text/plain": [
       "[{'Average Days between Expected Delivery Date and Order Date is': 16948.2}]"
      ]
     },
     "execution_count": 34,
     "metadata": {},
     "output_type": "execute_result"
    }
   ],
   "source": [
    "query_1 = { #creates a new collection PersonInfo by joining the collection People with itself using PersonID\n",
    "    \"$lookup\":\n",
    "    {\n",
    "       'from': 'people',\n",
    "       'localField': 'SalespersonPersonID',\n",
    "       'foreignField': 'PersonID',\n",
    "       'as': 'PersonInfo'\n",
    "     }\n",
    "}\n",
    "\n",
    "query_2 ={ #finds FullName inside PersonInfo, where it is equal to 'Jack Potter'\n",
    "    '$match': {\n",
    "        'PersonInfo.FullName' : {'$eq' : 'Jack Potter'}\n",
    "    }\n",
    "}\n",
    "\n",
    "query_3 = { #selects SalespersonPersonID and the FullName, and the difference in days between the ExpectedDeliveryDate and OrderDate\n",
    "    '$project' : {\n",
    "        '_id' : False,\n",
    "        'SalespersonPersonID' : 1,\n",
    "        'PersonInfo.FullName' : 1,\n",
    "        'days_in_between' : { '$subtract': [ '$ExpectedDeliveryDate', '$OrderDate' ] },\n",
    "    }\n",
    "}\n",
    "\n",
    "\n",
    "query_4 = { #groups the output by FullName and performs an average agg function in the difference in days\n",
    "    '$group': {\n",
    "        '_id': {'FullName' : '$PersonInfo.FullName'}, \n",
    "        'average_days' : {'$avg' : '$days_in_between'}            \n",
    "    }\n",
    "}\n",
    "\n",
    "query_5 = { #retrieves the result rounding to two decimals\n",
    "    '$project' : {\n",
    "        '_id' : False,\n",
    "        'Average Days between Expected Delivery Date and Order Date is' : {'$round' : [{'$divide' : ['$average_days', 7387]}, 2]}\n",
    "    }\n",
    "}\n",
    "\n",
    "pipeline = [query_1,query_2,query_3,query_4,query_5]\n",
    "\n",
    "\n",
    "r=db.orders.aggregate(pipeline)\n",
    "\n",
    "result = list(r)\n",
    "\n",
    "result"
   ]
  },
  {
   "cell_type": "markdown",
   "metadata": {},
   "source": [
    "## B- Which items get ordered the most in bulk (largest average quantity ordered)?  "
   ]
  },
  {
   "cell_type": "code",
   "execution_count": 35,
   "metadata": {},
   "outputs": [
    {
     "data": {
      "text/plain": [
       "[{'average_quantity': 199.35,\n",
       "  'total_quantity': 207324,\n",
       "  'items_name': 'Black and orange fragile despatch tape 48mmx75m'},\n",
       " {'average_quantity': 198.23950870010236,\n",
       "  'total_quantity': 193680,\n",
       "  'items_name': 'Black and orange fragile despatch tape 48mmx100m'},\n",
       " {'average_quantity': 145.26190476190476,\n",
       "  'total_quantity': 158626,\n",
       "  'items_name': 'Clear packaging tape 48mmx75m'}]"
      ]
     },
     "execution_count": 35,
     "metadata": {},
     "output_type": "execute_result"
    },
    {
     "data": {
      "text/plain": [
       "[{'average_quantity': 199.35,\n",
       "  'total_quantity': 207324,\n",
       "  'items_name': 'Black and orange fragile despatch tape 48mmx75m'},\n",
       " {'average_quantity': 198.23950870010236,\n",
       "  'total_quantity': 193680,\n",
       "  'items_name': 'Black and orange fragile despatch tape 48mmx100m'},\n",
       " {'average_quantity': 145.26190476190476,\n",
       "  'total_quantity': 158626,\n",
       "  'items_name': 'Clear packaging tape 48mmx75m'}]"
      ]
     },
     "execution_count": 35,
     "metadata": {},
     "output_type": "execute_result"
    }
   ],
   "source": [
    "query_1 = { #selects Description and Quantity from the collection\n",
    "    '$project': {\n",
    "        '_id' : 0,    \n",
    "        'Description':1,\n",
    "        'Quantity' : 1\n",
    "    }\n",
    "}\n",
    "\n",
    "query_2 = { #groups by Description, and performs aggregation functions average, and sum over the Quantity\n",
    "    '$group':{\n",
    "        '_id' : '$Description', \n",
    "        'average_quantity' : {'$avg' : '$Quantity'},\n",
    "        'total_quantity': { '$sum': '$Quantity' }\n",
    "    }\n",
    "} \n",
    "\n",
    "query_3 = { #rename the '_id' to 'items_name', and selects the average and total quantities\n",
    "    '$project':{\n",
    "        '_id':0,\n",
    "        'items_name':'$_id',\n",
    "        'average_quantity':1,\n",
    "        'total_quantity':1       \n",
    "    }\n",
    "}\n",
    "\n",
    "query_4 = {'$sort':{'average_quantity' : -1}} #sort the results in descending order based on average_quantity\n",
    "\n",
    "query_5 = {'$limit': 3} #shows the first three outputs\n",
    "\n",
    "pipeline = [query_1,query_2,query_3,query_4,query_5]\n",
    "    \n",
    "result = list(db.orderlines.aggregate(pipeline))\n",
    "\n",
    "result"
   ]
  },
  {
   "cell_type": "markdown",
   "metadata": {},
   "source": [
    "## C- Which two items get ordered together the most?"
   ]
  },
  {
   "cell_type": "code",
   "execution_count": 36,
   "metadata": {},
   "outputs": [
    {
     "data": {
      "text/plain": [
       "'Description'"
      ]
     },
     "execution_count": 36,
     "metadata": {},
     "output_type": "execute_result"
    },
    {
     "data": {
      "text/plain": [
       "'Description'"
      ]
     },
     "execution_count": 36,
     "metadata": {},
     "output_type": "execute_result"
    }
   ],
   "source": [
    "db.orderlines.create_index( #created the index for OrderID within orderlines\n",
    "    [('OrderID', 1)],\n",
    "    name='OrderID', \n",
    ")\n",
    "\n",
    "\n",
    "db.orderlines.create_index( #created the index for Description within orderlines\n",
    "    [('Description', 1)],\n",
    "    name='Description', \n",
    ")"
   ]
  },
  {
   "cell_type": "code",
   "execution_count": 37,
   "metadata": {},
   "outputs": [
    {
     "data": {
      "text/plain": [
       "[{'_id': {'order_items1': 'Dinosaur battery-powered slippers (Green) S',\n",
       "   'order_items2': 'Animal with big feet slippers (Brown) XL'},\n",
       "  'count': 30},\n",
       " {'_id': {'order_items1': 'Developer joke mug - fun was unexpected at this time (Black)',\n",
       "   'order_items2': 'Air cushion film 200mmx200mm 325m'},\n",
       "  'count': 30},\n",
       " {'_id': {'order_items1': 'Animal with big feet slippers (Brown) XL',\n",
       "   'order_items2': 'Dinosaur battery-powered slippers (Green) S'},\n",
       "  'count': 30},\n",
       " {'_id': {'order_items1': 'Air cushion film 200mmx200mm 325m',\n",
       "   'order_items2': 'Developer joke mug - fun was unexpected at this time (Black)'},\n",
       "  'count': 30},\n",
       " {'_id': {'order_items1': 'Black and orange glass with care despatch tape  48mmx100m',\n",
       "   'order_items2': 'Developer joke mug - (hip, hip, array) (White)'},\n",
       "  'count': 29}]"
      ]
     },
     "execution_count": 37,
     "metadata": {},
     "output_type": "execute_result"
    },
    {
     "data": {
      "text/plain": [
       "[{'_id': {'order_items1': 'Dinosaur battery-powered slippers (Green) S',\n",
       "   'order_items2': 'Animal with big feet slippers (Brown) XL'},\n",
       "  'count': 30},\n",
       " {'_id': {'order_items1': 'Developer joke mug - fun was unexpected at this time (Black)',\n",
       "   'order_items2': 'Air cushion film 200mmx200mm 325m'},\n",
       "  'count': 30},\n",
       " {'_id': {'order_items1': 'Animal with big feet slippers (Brown) XL',\n",
       "   'order_items2': 'Dinosaur battery-powered slippers (Green) S'},\n",
       "  'count': 30},\n",
       " {'_id': {'order_items1': 'Air cushion film 200mmx200mm 325m',\n",
       "   'order_items2': 'Developer joke mug - fun was unexpected at this time (Black)'},\n",
       "  'count': 30},\n",
       " {'_id': {'order_items1': 'Black and orange glass with care despatch tape  48mmx100m',\n",
       "   'order_items2': 'Developer joke mug - (hip, hip, array) (White)'},\n",
       "  'count': 29}]"
      ]
     },
     "execution_count": 37,
     "metadata": {},
     "output_type": "execute_result"
    }
   ],
   "source": [
    "query_1 =     {#Joined orderlines with itself using OrderID\n",
    "        '$lookup': {\n",
    "           \"from\": \"orderlines\",\n",
    "           \"localField\": \"OrderID\",\n",
    "           \"foreignField\": \"OrderID\",\n",
    "           \"as\": \"joint_orders\"\n",
    "        }\n",
    "}\n",
    "\n",
    "query_2 = {#Deconstruct joint_orders\n",
    "    '$unwind': '$joint_orders'\n",
    "}\n",
    "\n",
    "query_3 = {#Deconstruct the Description in joint_orders\n",
    "    '$unwind': '$joint_orders.Description'\n",
    "}\n",
    "    \n",
    "query_4 = {#selected the original Description and comparing with the Description from joint_orders\n",
    "    '$project':{\n",
    "        '_id':False,\n",
    "        'order_items1':'$Description',\n",
    "        'order_items2':'$joint_orders.Description',\n",
    "        'order_together': {\"$eq\":[\"$Description\",\"$joint_orders.Description\"]}\n",
    "    }\n",
    "}\n",
    "\n",
    "query_5 = {#Only kept the items that are not the same\n",
    "    '$match':{\"order_together\": False}}\n",
    "\n",
    "query_6 = {#Grouped in order_items1 and order_items2, then applied a distinct count on the number of instances\n",
    "    '$group':{\n",
    "        '_id': {'order_items1':'$order_items1','order_items2':'$order_items2'},\n",
    "        'count': { '$sum': 1 }\n",
    "    }\n",
    "}\n",
    "\n",
    "query_7 = {'$sort':{'count':-1}} #sorted the results in descending order\n",
    "\n",
    "query_8 = {'$limit': 5} #limited 5 results in the output\n",
    "\n",
    "pipeline = [query_1, query_2, query_3, query_4, query_5, query_6, query_7, query_8]\n",
    "\n",
    "r = db.orderlines.aggregate(pipeline)\n",
    "\n",
    "result = list(r)\n",
    "\n",
    "result"
   ]
  },
  {
   "cell_type": "markdown",
   "metadata": {},
   "source": [
    "## D- For each customer category which 3 items have the ordered the most?"
   ]
  },
  {
   "cell_type": "code",
   "execution_count": 38,
   "metadata": {},
   "outputs": [
    {
     "data": {
      "text/plain": [
       "[{'CustomerCategory': 'Corporate',\n",
       "  'top_three_items': ['Black and orange fragile despatch tape 48mmx75m',\n",
       "   'Red and white urgent despatch tape 48mmx75m',\n",
       "   'Shipping carton (Brown) 305x305x305mm']},\n",
       " {'CustomerCategory': 'Computer Store',\n",
       "  'top_three_items': ['Shipping carton (Brown) 356x356x279mm',\n",
       "   'Black and orange fragile despatch tape 48mmx75m',\n",
       "   'Black and yellow heavy despatch tape 48mmx100m']},\n",
       " {'CustomerCategory': 'Gift Store',\n",
       "  'top_three_items': ['Black and orange fragile despatch tape 48mmx75m',\n",
       "   'Black and orange fragile despatch tape 48mmx100m',\n",
       "   'Express post box 5kg (White) 350x280x130mm']},\n",
       " {'CustomerCategory': 'Novelty Shop',\n",
       "  'top_three_items': ['Black and orange fragile despatch tape 48mmx75m',\n",
       "   'Black and orange fragile despatch tape 48mmx100m',\n",
       "   'Clear packaging tape 48mmx75m']},\n",
       " {'CustomerCategory': 'Supermarket',\n",
       "  'top_three_items': ['Black and orange fragile despatch tape 48mmx75m',\n",
       "   'Clear packaging tape 48mmx75m',\n",
       "   'Black and orange fragile despatch tape 48mmx100m']}]"
      ]
     },
     "execution_count": 38,
     "metadata": {},
     "output_type": "execute_result"
    },
    {
     "data": {
      "text/plain": [
       "[{'CustomerCategory': 'Corporate',\n",
       "  'top_three_items': ['Black and orange fragile despatch tape 48mmx75m',\n",
       "   'Red and white urgent despatch tape 48mmx75m',\n",
       "   'Shipping carton (Brown) 305x305x305mm']},\n",
       " {'CustomerCategory': 'Computer Store',\n",
       "  'top_three_items': ['Shipping carton (Brown) 356x356x279mm',\n",
       "   'Black and orange fragile despatch tape 48mmx75m',\n",
       "   'Black and yellow heavy despatch tape 48mmx100m']},\n",
       " {'CustomerCategory': 'Gift Store',\n",
       "  'top_three_items': ['Black and orange fragile despatch tape 48mmx75m',\n",
       "   'Black and orange fragile despatch tape 48mmx100m',\n",
       "   'Express post box 5kg (White) 350x280x130mm']},\n",
       " {'CustomerCategory': 'Novelty Shop',\n",
       "  'top_three_items': ['Black and orange fragile despatch tape 48mmx75m',\n",
       "   'Black and orange fragile despatch tape 48mmx100m',\n",
       "   'Clear packaging tape 48mmx75m']},\n",
       " {'CustomerCategory': 'Supermarket',\n",
       "  'top_three_items': ['Black and orange fragile despatch tape 48mmx75m',\n",
       "   'Clear packaging tape 48mmx75m',\n",
       "   'Black and orange fragile despatch tape 48mmx100m']}]"
      ]
     },
     "execution_count": 38,
     "metadata": {},
     "output_type": "execute_result"
    }
   ],
   "source": [
    "# accesses the collection created in the Modeling Notebook\n",
    "collection = db.orderlines_orders_customers_CustomerCategory_embed\n",
    "\n",
    "query_1 = { #deconstructs the Customer_list array\n",
    "    '$unwind' : '$Customer_list'\n",
    "}\n",
    "\n",
    "query_2 = { #deconstructs the orders_list array\n",
    "    '$unwind' : '$orders_list'\n",
    "}\n",
    "\n",
    "\n",
    "query_3 = { #selects the Description, Quantity and CustomerCategoryName from the collection\n",
    "    '$project':{\n",
    "        'Description':1,\n",
    "        'Quantity':1,\n",
    "        'CustomerCategoryName':'$Customer_list.CustomerCategory_list.CustomerCategoryName'\n",
    "    }\n",
    "}\n",
    "\n",
    "query_4 = { #deconstructs the CustomerCategoryName array\n",
    "    '$unwind' : '$CustomerCategoryName'\n",
    "}\n",
    "\n",
    "query_5 = { #groups the output by _id, CustomerCategoryName and Description, and performs summation in Quantity \n",
    "    '$group':{'_id' : {'CustomerCategoryName':'$CustomerCategoryName','Description':'$Description'},\n",
    "              'Quantity': { '$sum': '$Quantity'} \n",
    "        \n",
    "    }\n",
    "}\n",
    "\n",
    "query_6 = { #selects CustomerCategoryName, Description and Quantity\n",
    "    '$project':{\n",
    "        '_id':0,\n",
    "        'CustomerCategoryName':'$_id.CustomerCategoryName',\n",
    "        'Description':'$_id.Description',\n",
    "        'Quantity':1\n",
    "    }\n",
    "}\n",
    "\n",
    "query_ = { #groups by CustomerCategoryName and retrieves the top 3 Descriptions based on Quantity in descending mode\n",
    "    '$group':{ \n",
    "        '_id': \"$CustomerCategoryName\", \n",
    "        'Description':{\n",
    "            '$topN':{\n",
    "                'output': [ \"$Description\",\"$Quantity\" ],\n",
    "                'sortBy': { \"Quantity\": -1 },\n",
    "                'n': 3\n",
    "            }\n",
    "        }\n",
    "    }\n",
    "}\n",
    "\n",
    "\n",
    "query_7 = { #sorts the output in descending mode\n",
    "    '$sort': { 'CustomerCategoryName': 1, 'Quantity': -1 } }\n",
    "\n",
    "query_8 = { #groups by CustomerCategoryName and appends the Description into the outputs for each _id\n",
    "    '$group': {\n",
    "        '_id': '$CustomerCategoryName', \n",
    "        'items': { '$push': '$Description' },\n",
    "    }\n",
    "}\n",
    "\n",
    "query_9 = { #selects the resultants CustomerCategory and limits the number of outputs to 3 using $slice\n",
    "    '$project': {\n",
    "        '_id':0,\n",
    "        'CustomerCategory':'$_id',\n",
    "        'top_three_items': {\n",
    "            '$slice': ['$items', 3]\n",
    "        }\n",
    "    }\n",
    "}\n",
    "\n",
    "\n",
    "pipeline = [query_1,query_2,query_3,query_4,query_5,query_6,query_7,query_8,query_9]\n",
    "\n",
    "r = collection.aggregate(pipeline)\n",
    "\n",
    "result = list(r)\n",
    "\n",
    "result"
   ]
  },
  {
   "cell_type": "markdown",
   "metadata": {},
   "source": [
    "## E- What is the current stock of each stockgroup?"
   ]
  },
  {
   "cell_type": "code",
   "execution_count": 39,
   "metadata": {},
   "outputs": [
    {
     "data": {
      "text/plain": [
       "[{'_id': ['Clothing', 'T-Shirts', 'Computing Novelties'],\n",
       "  'Quantity': Decimal128('89339225.000')},\n",
       " {'_id': ['Packaging Materials'], 'Quantity': Decimal128('42788674.000')},\n",
       " {'_id': ['Toys'], 'Quantity': Decimal128('-17138.000')},\n",
       " {'_id': ['Novelty Items', 'Computing Novelties'],\n",
       "  'Quantity': Decimal128('-56010.000')},\n",
       " {'_id': ['Novelty Items', 'Computing Novelties', 'USB Novelties'],\n",
       "  'Quantity': Decimal128('-79483.000')},\n",
       " {'_id': ['Clothing'], 'Quantity': Decimal128('-91321.000')},\n",
       " {'_id': ['Novelty Items', 'Toys'], 'Quantity': Decimal128('-102909.000')},\n",
       " {'_id': ['Novelty Items'], 'Quantity': Decimal128('-122280.000')},\n",
       " {'_id': ['Novelty Items', 'Mugs', 'Computing Novelties'],\n",
       "  'Quantity': Decimal128('-242577.000')},\n",
       " {'_id': ['Clothing', 'Furry Footwear'],\n",
       "  'Quantity': Decimal128('-394460.000')},\n",
       " {'_id': ['Novelty Items', 'Clothing'], 'Quantity': Decimal128('-554041.000')}]"
      ]
     },
     "execution_count": 39,
     "metadata": {},
     "output_type": "execute_result"
    },
    {
     "data": {
      "text/plain": [
       "[{'_id': ['Clothing', 'T-Shirts', 'Computing Novelties'],\n",
       "  'Quantity': Decimal128('89339225.000')},\n",
       " {'_id': ['Packaging Materials'], 'Quantity': Decimal128('42788674.000')},\n",
       " {'_id': ['Toys'], 'Quantity': Decimal128('-17138.000')},\n",
       " {'_id': ['Novelty Items', 'Computing Novelties'],\n",
       "  'Quantity': Decimal128('-56010.000')},\n",
       " {'_id': ['Novelty Items', 'Computing Novelties', 'USB Novelties'],\n",
       "  'Quantity': Decimal128('-79483.000')},\n",
       " {'_id': ['Clothing'], 'Quantity': Decimal128('-91321.000')},\n",
       " {'_id': ['Novelty Items', 'Toys'], 'Quantity': Decimal128('-102909.000')},\n",
       " {'_id': ['Novelty Items'], 'Quantity': Decimal128('-122280.000')},\n",
       " {'_id': ['Novelty Items', 'Mugs', 'Computing Novelties'],\n",
       "  'Quantity': Decimal128('-242577.000')},\n",
       " {'_id': ['Clothing', 'Furry Footwear'],\n",
       "  'Quantity': Decimal128('-394460.000')},\n",
       " {'_id': ['Novelty Items', 'Clothing'], 'Quantity': Decimal128('-554041.000')}]"
      ]
     },
     "execution_count": 39,
     "metadata": {},
     "output_type": "execute_result"
    }
   ],
   "source": [
    "query_1 = { #selects Quantity and StockGroupName from the collection StockGroupID_list\n",
    "    '$project': {'_id' : False,        \n",
    "                'Quantity' : 1,\n",
    "                'StockGroupName' : '$StockGroupID_list.StockGroupName'}}\n",
    "\n",
    "query_2 = { #groups by StockGroupName, and performs a Sum in Quantity\n",
    "    '$group':\n",
    "        {'_id' : '$StockGroupName',\n",
    "         'Quantity' : {'$sum' : '$Quantity'}}}\n",
    "\n",
    "query_3 = { #sorts the results based on Quantity in descending mode\n",
    "    '$sort':\n",
    "        {'Quantity' : -1}}\n",
    "\n",
    "\n",
    "pipeline = [query_1,query_2,query_3]\n",
    "    \n",
    "result = list(db.stockitemstransactions_stockitemsstockgroups_stockgroups_embed.aggregate(pipeline))\n",
    "\n",
    "result"
   ]
  },
  {
   "cell_type": "markdown",
   "metadata": {},
   "source": [
    "# 3. The CFO needs to know:"
   ]
  },
  {
   "cell_type": "markdown",
   "metadata": {},
   "source": [
    "## A- What is the monthly total order count for each month?"
   ]
  },
  {
   "cell_type": "code",
   "execution_count": 40,
   "metadata": {},
   "outputs": [
    {
     "data": {
      "text/plain": [
       "[{'_id': {'month': 1, 'year': 2013}, 'count': 1674},\n",
       " {'_id': {'month': 2, 'year': 2013}, 'count': 1139},\n",
       " {'_id': {'month': 3, 'year': 2013}, 'count': 1683},\n",
       " {'_id': {'month': 4, 'year': 2013}, 'count': 1696},\n",
       " {'_id': {'month': 5, 'year': 2013}, 'count': 1808},\n",
       " {'_id': {'month': 6, 'year': 2013}, 'count': 1675},\n",
       " {'_id': {'month': 7, 'year': 2013}, 'count': 1886},\n",
       " {'_id': {'month': 8, 'year': 2013}, 'count': 1537},\n",
       " {'_id': {'month': 9, 'year': 2013}, 'count': 1617},\n",
       " {'_id': {'month': 10, 'year': 2013}, 'count': 1618},\n",
       " {'_id': {'month': 11, 'year': 2013}, 'count': 1552},\n",
       " {'_id': {'month': 12, 'year': 2013}, 'count': 1565},\n",
       " {'_id': {'month': 1, 'year': 2014}, 'count': 1791},\n",
       " {'_id': {'month': 2, 'year': 2014}, 'count': 1538},\n",
       " {'_id': {'month': 3, 'year': 2014}, 'count': 1586},\n",
       " {'_id': {'month': 4, 'year': 2014}, 'count': 1739},\n",
       " {'_id': {'month': 5, 'year': 2014}, 'count': 1908},\n",
       " {'_id': {'month': 6, 'year': 2014}, 'count': 1887},\n",
       " {'_id': {'month': 7, 'year': 2014}, 'count': 2008},\n",
       " {'_id': {'month': 8, 'year': 2014}, 'count': 1642},\n",
       " {'_id': {'month': 9, 'year': 2014}, 'count': 1637},\n",
       " {'_id': {'month': 10, 'year': 2014}, 'count': 1921},\n",
       " {'_id': {'month': 11, 'year': 2014}, 'count': 1628},\n",
       " {'_id': {'month': 12, 'year': 2014}, 'count': 1914},\n",
       " {'_id': {'month': 1, 'year': 2015}, 'count': 1830},\n",
       " {'_id': {'month': 2, 'year': 2015}, 'count': 1732},\n",
       " {'_id': {'month': 3, 'year': 2015}, 'count': 1891},\n",
       " {'_id': {'month': 4, 'year': 2015}, 'count': 2111},\n",
       " {'_id': {'month': 5, 'year': 2015}, 'count': 1959},\n",
       " {'_id': {'month': 6, 'year': 2015}, 'count': 1989},\n",
       " {'_id': {'month': 7, 'year': 2015}, 'count': 2273},\n",
       " {'_id': {'month': 8, 'year': 2015}, 'count': 1729},\n",
       " {'_id': {'month': 9, 'year': 2015}, 'count': 2065},\n",
       " {'_id': {'month': 10, 'year': 2015}, 'count': 1965},\n",
       " {'_id': {'month': 11, 'year': 2015}, 'count': 1834},\n",
       " {'_id': {'month': 12, 'year': 2015}, 'count': 1951},\n",
       " {'_id': {'month': 1, 'year': 2016}, 'count': 1944},\n",
       " {'_id': {'month': 2, 'year': 2016}, 'count': 1706},\n",
       " {'_id': {'month': 3, 'year': 2016}, 'count': 1969},\n",
       " {'_id': {'month': 4, 'year': 2016}, 'count': 1951},\n",
       " {'_id': {'month': 5, 'year': 2016}, 'count': 2047}]"
      ]
     },
     "execution_count": 40,
     "metadata": {},
     "output_type": "execute_result"
    },
    {
     "data": {
      "text/plain": [
       "[{'_id': {'month': 1, 'year': 2013}, 'count': 1674},\n",
       " {'_id': {'month': 2, 'year': 2013}, 'count': 1139},\n",
       " {'_id': {'month': 3, 'year': 2013}, 'count': 1683},\n",
       " {'_id': {'month': 4, 'year': 2013}, 'count': 1696},\n",
       " {'_id': {'month': 5, 'year': 2013}, 'count': 1808},\n",
       " {'_id': {'month': 6, 'year': 2013}, 'count': 1675},\n",
       " {'_id': {'month': 7, 'year': 2013}, 'count': 1886},\n",
       " {'_id': {'month': 8, 'year': 2013}, 'count': 1537},\n",
       " {'_id': {'month': 9, 'year': 2013}, 'count': 1617},\n",
       " {'_id': {'month': 10, 'year': 2013}, 'count': 1618},\n",
       " {'_id': {'month': 11, 'year': 2013}, 'count': 1552},\n",
       " {'_id': {'month': 12, 'year': 2013}, 'count': 1565},\n",
       " {'_id': {'month': 1, 'year': 2014}, 'count': 1791},\n",
       " {'_id': {'month': 2, 'year': 2014}, 'count': 1538},\n",
       " {'_id': {'month': 3, 'year': 2014}, 'count': 1586},\n",
       " {'_id': {'month': 4, 'year': 2014}, 'count': 1739},\n",
       " {'_id': {'month': 5, 'year': 2014}, 'count': 1908},\n",
       " {'_id': {'month': 6, 'year': 2014}, 'count': 1887},\n",
       " {'_id': {'month': 7, 'year': 2014}, 'count': 2008},\n",
       " {'_id': {'month': 8, 'year': 2014}, 'count': 1642},\n",
       " {'_id': {'month': 9, 'year': 2014}, 'count': 1637},\n",
       " {'_id': {'month': 10, 'year': 2014}, 'count': 1921},\n",
       " {'_id': {'month': 11, 'year': 2014}, 'count': 1628},\n",
       " {'_id': {'month': 12, 'year': 2014}, 'count': 1914},\n",
       " {'_id': {'month': 1, 'year': 2015}, 'count': 1830},\n",
       " {'_id': {'month': 2, 'year': 2015}, 'count': 1732},\n",
       " {'_id': {'month': 3, 'year': 2015}, 'count': 1891},\n",
       " {'_id': {'month': 4, 'year': 2015}, 'count': 2111},\n",
       " {'_id': {'month': 5, 'year': 2015}, 'count': 1959},\n",
       " {'_id': {'month': 6, 'year': 2015}, 'count': 1989},\n",
       " {'_id': {'month': 7, 'year': 2015}, 'count': 2273},\n",
       " {'_id': {'month': 8, 'year': 2015}, 'count': 1729},\n",
       " {'_id': {'month': 9, 'year': 2015}, 'count': 2065},\n",
       " {'_id': {'month': 10, 'year': 2015}, 'count': 1965},\n",
       " {'_id': {'month': 11, 'year': 2015}, 'count': 1834},\n",
       " {'_id': {'month': 12, 'year': 2015}, 'count': 1951},\n",
       " {'_id': {'month': 1, 'year': 2016}, 'count': 1944},\n",
       " {'_id': {'month': 2, 'year': 2016}, 'count': 1706},\n",
       " {'_id': {'month': 3, 'year': 2016}, 'count': 1969},\n",
       " {'_id': {'month': 4, 'year': 2016}, 'count': 1951},\n",
       " {'_id': {'month': 5, 'year': 2016}, 'count': 2047}]"
      ]
     },
     "execution_count": 40,
     "metadata": {},
     "output_type": "execute_result"
    }
   ],
   "source": [
    "query_1 =  { #selects month, year from OrderDate, and counts each instance as one\n",
    "    '$project' : { \n",
    "          'month' : { '$month' : \"$OrderDate\"}, \n",
    "          'year' : { '$year' :  \"$OrderDate\"},\n",
    "          'count' : { '$sum': 1 }\n",
    "      }}\n",
    "query_2 = { #groups by month and year, renaming it as _id, then counts the instances    \n",
    "    '$group': {\n",
    "            '_id' : {'month' : \"$month\", 'year' :'$year' },\n",
    "            'count': { '$sum': '$count'} }}\n",
    "\n",
    "query_3 = { #sorts the results based on year and month in ascending mode\n",
    "    '$sort': {'_id.year':1,'_id.month':1}}\n",
    "\n",
    "pipeline = [query_1,query_2, query_3 ]\n",
    "\n",
    "\n",
    "r = db.orders.aggregate(pipeline)\n",
    "\n",
    "result = list(r)\n",
    "\n",
    "result"
   ]
  },
  {
   "cell_type": "markdown",
   "metadata": {},
   "source": [
    "## B- How many orders are there from the customer Tailspin Toys (Head Office)?"
   ]
  },
  {
   "cell_type": "code",
   "execution_count": 41,
   "metadata": {},
   "outputs": [
    {
     "data": {
      "text/plain": [
       "[{'Name': 'Tailspin Toys (Head Office)', 'No_Orders': 129}]"
      ]
     },
     "execution_count": 41,
     "metadata": {},
     "output_type": "execute_result"
    },
    {
     "data": {
      "text/plain": [
       "[{'Name': 'Tailspin Toys (Head Office)', 'No_Orders': 129}]"
      ]
     },
     "execution_count": 41,
     "metadata": {},
     "output_type": "execute_result"
    }
   ],
   "source": [
    "query_1 = { #finds the CustomerName correspondent to \"Tailspin Toys (Head Office)\"\n",
    "    '$match': {'CustomerName' : \"Tailspin Toys (Head Office)\"}\n",
    "}\n",
    "\n",
    "query_2 = { #joins orders with itself using CustomerID and renames the collection to \"order\"\n",
    "    \"$lookup\":\n",
    "    {\n",
    "       \"from\": \"orders\",\n",
    "       \"localField\": \"CustomerID\",\n",
    "       \"foreignField\": \"CustomerID\",\n",
    "       \"as\": \"order\"\n",
    "     }\n",
    "}\n",
    "\n",
    "query_3 = { #selects the Name and matches the elements with $size in order\n",
    "    \"$project\":{\n",
    "        \"_id\": 0,\n",
    "        'Name': '$CustomerName',\n",
    "        \"No_Orders\": {'$size':\"$order\"}\n",
    "    }\n",
    "}\n",
    "\n",
    "\n",
    "pipeline = [query_1, query_2, query_3]\n",
    "\n",
    "r = db.customers.aggregate(pipeline)\n",
    "\n",
    "result = list(r)\n",
    "\n",
    "result"
   ]
  },
  {
   "cell_type": "markdown",
   "metadata": {},
   "source": [
    "## C- What are the average monthly sales prices of all goods sold?"
   ]
  },
  {
   "cell_type": "code",
   "execution_count": 42,
   "metadata": {},
   "outputs": [
    {
     "data": {
      "text/plain": [
       "[{'sales_prices': Decimal128('724.2648835447831850028403711418292'),\n",
       "  'year': 2013,\n",
       "  'month': 1},\n",
       " {'sales_prices': Decimal128('757.1879227053140096618357487922705'),\n",
       "  'year': 2013,\n",
       "  'month': 2},\n",
       " {'sales_prices': Decimal128('735.9580812766747077379847838188903'),\n",
       "  'year': 2013,\n",
       "  'month': 3},\n",
       " {'sales_prices': Decimal128('782.0304949190816710575837410613474'),\n",
       "  'year': 2013,\n",
       "  'month': 4},\n",
       " {'sales_prices': Decimal128('800.6370152658361115985260572030181'),\n",
       "  'year': 2013,\n",
       "  'month': 5},\n",
       " {'sales_prices': Decimal128('777.4632071937055076807793180966654'),\n",
       "  'year': 2013,\n",
       "  'month': 6},\n",
       " {'sales_prices': Decimal128('763.6943436227951153324287652645862'),\n",
       "  'year': 2013,\n",
       "  'month': 7},\n",
       " {'sales_prices': Decimal128('747.2962440340319568375181572940444'),\n",
       "  'year': 2013,\n",
       "  'month': 8},\n",
       " {'sales_prices': Decimal128('767.9943616395371641498333006471857'),\n",
       "  'year': 2013,\n",
       "  'month': 9},\n",
       " {'sales_prices': Decimal128('750.3137594275768710114097853413266'),\n",
       "  'year': 2013,\n",
       "  'month': 10},\n",
       " {'sales_prices': Decimal128('770.5888844058906596731894290901755'),\n",
       "  'year': 2013,\n",
       "  'month': 11},\n",
       " {'sales_prices': Decimal128('750.7256141763995167136528393072896'),\n",
       "  'year': 2013,\n",
       "  'month': 12},\n",
       " {'sales_prices': Decimal128('739.6302006335797254487856388595565'),\n",
       "  'year': 2014,\n",
       "  'month': 1},\n",
       " {'sales_prices': Decimal128('739.6986335403726708074534161490683'),\n",
       "  'year': 2014,\n",
       "  'month': 2},\n",
       " {'sales_prices': Decimal128('772.8131203595154357170769831965612'),\n",
       "  'year': 2014,\n",
       "  'month': 3},\n",
       " {'sales_prices': Decimal128('764.1676491928169780518773807364411'),\n",
       "  'year': 2014,\n",
       "  'month': 4},\n",
       " {'sales_prices': Decimal128('788.6550688568110170897627343620375'),\n",
       "  'year': 2014,\n",
       "  'month': 5},\n",
       " {'sales_prices': Decimal128('751.9656589673913043478260869565217'),\n",
       "  'year': 2014,\n",
       "  'month': 6},\n",
       " {'sales_prices': Decimal128('779.6817511885895404120443740095087'),\n",
       "  'year': 2014,\n",
       "  'month': 7},\n",
       " {'sales_prices': Decimal128('818.1788304093567251461988304093567'),\n",
       "  'year': 2014,\n",
       "  'month': 8},\n",
       " {'sales_prices': Decimal128('776.6030584326753957396912253273402'),\n",
       "  'year': 2014,\n",
       "  'month': 9},\n",
       " {'sales_prices': Decimal128('758.0185041961494158301793648181669'),\n",
       "  'year': 2014,\n",
       "  'month': 10},\n",
       " {'sales_prices': Decimal128('807.0802853814793244030285381479324'),\n",
       "  'year': 2014,\n",
       "  'month': 11},\n",
       " {'sales_prices': Decimal128('751.0554834415044100515892827425528'),\n",
       "  'year': 2014,\n",
       "  'month': 12},\n",
       " {'sales_prices': Decimal128('794.4316041848299912816041848299913'),\n",
       "  'year': 2015,\n",
       "  'month': 1},\n",
       " {'sales_prices': Decimal128('786.3854052573932092004381161007667'),\n",
       "  'year': 2015,\n",
       "  'month': 2},\n",
       " {'sales_prices': Decimal128('781.0059441735328737178409281990920'),\n",
       "  'year': 2015,\n",
       "  'month': 3},\n",
       " {'sales_prices': Decimal128('786.4169326908598102695377202228580'),\n",
       "  'year': 2015,\n",
       "  'month': 4},\n",
       " {'sales_prices': Decimal128('759.7293871866295264623955431754875'),\n",
       "  'year': 2015,\n",
       "  'month': 5},\n",
       " {'sales_prices': Decimal128('757.8035898676992578251048725395289'),\n",
       "  'year': 2015,\n",
       "  'month': 6},\n",
       " {'sales_prices': Decimal128('755.6201528446079818850834984432494'),\n",
       "  'year': 2015,\n",
       "  'month': 7},\n",
       " {'sales_prices': Decimal128('752.2688227684346701164294954721863'),\n",
       "  'year': 2015,\n",
       "  'month': 8},\n",
       " {'sales_prices': Decimal128('757.4932259073842302878598247809762'),\n",
       "  'year': 2015,\n",
       "  'month': 9},\n",
       " {'sales_prices': Decimal128('745.8078365384615384615384615384615'),\n",
       "  'year': 2015,\n",
       "  'month': 10},\n",
       " {'sales_prices': Decimal128('741.4954187795069068018884420353209'),\n",
       "  'year': 2015,\n",
       "  'month': 11},\n",
       " {'sales_prices': Decimal128('758.6336489379219496130413304791701'),\n",
       "  'year': 2015,\n",
       "  'month': 12},\n",
       " {'sales_prices': Decimal128('766.5182732258600631543958783446900'),\n",
       "  'year': 2016,\n",
       "  'month': 1},\n",
       " {'sales_prices': Decimal128('781.2998570611778158947970268724986'),\n",
       "  'year': 2016,\n",
       "  'month': 2},\n",
       " {'sales_prices': Decimal128('780.5018184770254911511609027439519'),\n",
       "  'year': 2016,\n",
       "  'month': 3},\n",
       " {'sales_prices': Decimal128('786.9575888409166389903686482896048'),\n",
       "  'year': 2016,\n",
       "  'month': 4},\n",
       " {'sales_prices': Decimal128('795.7259795570698466780238500851789'),\n",
       "  'year': 2016,\n",
       "  'month': 5}]"
      ]
     },
     "execution_count": 42,
     "metadata": {},
     "output_type": "execute_result"
    },
    {
     "data": {
      "text/plain": [
       "[{'sales_prices': Decimal128('724.2648835447831850028403711418292'),\n",
       "  'year': 2013,\n",
       "  'month': 1},\n",
       " {'sales_prices': Decimal128('757.1879227053140096618357487922705'),\n",
       "  'year': 2013,\n",
       "  'month': 2},\n",
       " {'sales_prices': Decimal128('735.9580812766747077379847838188903'),\n",
       "  'year': 2013,\n",
       "  'month': 3},\n",
       " {'sales_prices': Decimal128('782.0304949190816710575837410613474'),\n",
       "  'year': 2013,\n",
       "  'month': 4},\n",
       " {'sales_prices': Decimal128('800.6370152658361115985260572030181'),\n",
       "  'year': 2013,\n",
       "  'month': 5},\n",
       " {'sales_prices': Decimal128('777.4632071937055076807793180966654'),\n",
       "  'year': 2013,\n",
       "  'month': 6},\n",
       " {'sales_prices': Decimal128('763.6943436227951153324287652645862'),\n",
       "  'year': 2013,\n",
       "  'month': 7},\n",
       " {'sales_prices': Decimal128('747.2962440340319568375181572940444'),\n",
       "  'year': 2013,\n",
       "  'month': 8},\n",
       " {'sales_prices': Decimal128('767.9943616395371641498333006471857'),\n",
       "  'year': 2013,\n",
       "  'month': 9},\n",
       " {'sales_prices': Decimal128('750.3137594275768710114097853413266'),\n",
       "  'year': 2013,\n",
       "  'month': 10},\n",
       " {'sales_prices': Decimal128('770.5888844058906596731894290901755'),\n",
       "  'year': 2013,\n",
       "  'month': 11},\n",
       " {'sales_prices': Decimal128('750.7256141763995167136528393072896'),\n",
       "  'year': 2013,\n",
       "  'month': 12},\n",
       " {'sales_prices': Decimal128('739.6302006335797254487856388595565'),\n",
       "  'year': 2014,\n",
       "  'month': 1},\n",
       " {'sales_prices': Decimal128('739.6986335403726708074534161490683'),\n",
       "  'year': 2014,\n",
       "  'month': 2},\n",
       " {'sales_prices': Decimal128('772.8131203595154357170769831965612'),\n",
       "  'year': 2014,\n",
       "  'month': 3},\n",
       " {'sales_prices': Decimal128('764.1676491928169780518773807364411'),\n",
       "  'year': 2014,\n",
       "  'month': 4},\n",
       " {'sales_prices': Decimal128('788.6550688568110170897627343620375'),\n",
       "  'year': 2014,\n",
       "  'month': 5},\n",
       " {'sales_prices': Decimal128('751.9656589673913043478260869565217'),\n",
       "  'year': 2014,\n",
       "  'month': 6},\n",
       " {'sales_prices': Decimal128('779.6817511885895404120443740095087'),\n",
       "  'year': 2014,\n",
       "  'month': 7},\n",
       " {'sales_prices': Decimal128('818.1788304093567251461988304093567'),\n",
       "  'year': 2014,\n",
       "  'month': 8},\n",
       " {'sales_prices': Decimal128('776.6030584326753957396912253273402'),\n",
       "  'year': 2014,\n",
       "  'month': 9},\n",
       " {'sales_prices': Decimal128('758.0185041961494158301793648181669'),\n",
       "  'year': 2014,\n",
       "  'month': 10},\n",
       " {'sales_prices': Decimal128('807.0802853814793244030285381479324'),\n",
       "  'year': 2014,\n",
       "  'month': 11},\n",
       " {'sales_prices': Decimal128('751.0554834415044100515892827425528'),\n",
       "  'year': 2014,\n",
       "  'month': 12},\n",
       " {'sales_prices': Decimal128('794.4316041848299912816041848299913'),\n",
       "  'year': 2015,\n",
       "  'month': 1},\n",
       " {'sales_prices': Decimal128('786.3854052573932092004381161007667'),\n",
       "  'year': 2015,\n",
       "  'month': 2},\n",
       " {'sales_prices': Decimal128('781.0059441735328737178409281990920'),\n",
       "  'year': 2015,\n",
       "  'month': 3},\n",
       " {'sales_prices': Decimal128('786.4169326908598102695377202228580'),\n",
       "  'year': 2015,\n",
       "  'month': 4},\n",
       " {'sales_prices': Decimal128('759.7293871866295264623955431754875'),\n",
       "  'year': 2015,\n",
       "  'month': 5},\n",
       " {'sales_prices': Decimal128('757.8035898676992578251048725395289'),\n",
       "  'year': 2015,\n",
       "  'month': 6},\n",
       " {'sales_prices': Decimal128('755.6201528446079818850834984432494'),\n",
       "  'year': 2015,\n",
       "  'month': 7},\n",
       " {'sales_prices': Decimal128('752.2688227684346701164294954721863'),\n",
       "  'year': 2015,\n",
       "  'month': 8},\n",
       " {'sales_prices': Decimal128('757.4932259073842302878598247809762'),\n",
       "  'year': 2015,\n",
       "  'month': 9},\n",
       " {'sales_prices': Decimal128('745.8078365384615384615384615384615'),\n",
       "  'year': 2015,\n",
       "  'month': 10},\n",
       " {'sales_prices': Decimal128('741.4954187795069068018884420353209'),\n",
       "  'year': 2015,\n",
       "  'month': 11},\n",
       " {'sales_prices': Decimal128('758.6336489379219496130413304791701'),\n",
       "  'year': 2015,\n",
       "  'month': 12},\n",
       " {'sales_prices': Decimal128('766.5182732258600631543958783446900'),\n",
       "  'year': 2016,\n",
       "  'month': 1},\n",
       " {'sales_prices': Decimal128('781.2998570611778158947970268724986'),\n",
       "  'year': 2016,\n",
       "  'month': 2},\n",
       " {'sales_prices': Decimal128('780.5018184770254911511609027439519'),\n",
       "  'year': 2016,\n",
       "  'month': 3},\n",
       " {'sales_prices': Decimal128('786.9575888409166389903686482896048'),\n",
       "  'year': 2016,\n",
       "  'month': 4},\n",
       " {'sales_prices': Decimal128('795.7259795570698466780238500851789'),\n",
       "  'year': 2016,\n",
       "  'month': 5}]"
      ]
     },
     "execution_count": 42,
     "metadata": {},
     "output_type": "execute_result"
    }
   ],
   "source": [
    "# accesses the collection order_orderline_embed, created in the Modeling Notebook\n",
    "collection = db.order_orderline_embed\n",
    "\n",
    "query_1 = { #selects the sales_prices by multiplying Quantity and UnitPrice, and the OrderDate from the collection created\n",
    "    '$project':{\n",
    "        'sales_prices':{'$multiply':['$Quantity','$UnitPrice']},\n",
    "        'OrderDate':'$orders_list.OrderDate'      \n",
    "    }\n",
    "}\n",
    "\n",
    "query_2 = { #deconstruct the OrderDate\n",
    "    '$unwind' : '$OrderDate'\n",
    "    }\n",
    "\n",
    "query_3 = { #selects the sales_prices, month and year based on OrderDate\n",
    "    '$project':{\n",
    "        'sales_prices':1,\n",
    "        'month' : { '$month' : \"$OrderDate\"}, \n",
    "        'year' : { '$year' :  \"$OrderDate\"},     \n",
    "    }\n",
    "}\n",
    "\n",
    "query_4 = { #groups by the month and year, and performs agg function 'Avg' on sales_prices\n",
    "    '$group':{'_id' : {'month' : \"$month\", 'year' :'$year' },\n",
    "            'sales_prices': { '$avg': '$sales_prices'} \n",
    "        \n",
    "    }\n",
    "}\n",
    "query_5 = { #selects the year, month, and sales_prices\n",
    "    '$project':{\n",
    "        '_id':0,\n",
    "        'year':'$_id.year',\n",
    "        'month':'$_id.month',\n",
    "        'sales_prices':1      \n",
    "    }\n",
    "}\n",
    "\n",
    "query_6 = {  #sorts the results based on year and month in ascending mode\n",
    "    '$sort': {'year':1,'month':1}}\n",
    "\n",
    "pipeline = [query_1,query_2,query_3,query_4,query_5,query_6]\n",
    "\n",
    "r = collection.aggregate(pipeline)\n",
    "\n",
    "result = list(r)\n",
    "\n",
    "result"
   ]
  },
  {
   "cell_type": "markdown",
   "metadata": {},
   "source": [
    "## D- In each state province what is the average customer credit limit?"
   ]
  },
  {
   "cell_type": "code",
   "execution_count": 43,
   "metadata": {},
   "outputs": [
    {
     "data": {
      "text/plain": [
       "[{'_id': [['Tennessee']], 'CreditLimit_avg': Decimal128('3465.00')},\n",
       " {'_id': [['Utah']], 'CreditLimit_avg': Decimal128('3200.00')},\n",
       " {'_id': [['Florida']], 'CreditLimit_avg': Decimal128('2800.00')},\n",
       " {'_id': [['Oklahoma']], 'CreditLimit_avg': Decimal128('2806.00')},\n",
       " {'_id': [['New Mexico']], 'CreditLimit_avg': Decimal128('2741.00')},\n",
       " {'_id': [['Texas']], 'CreditLimit_avg': Decimal128('2312.50')},\n",
       " {'_id': [['West Virginia']],\n",
       "  'CreditLimit_avg': Decimal128('2567.857142857142857142857142857143')},\n",
       " {'_id': [['Kentucky']], 'CreditLimit_avg': Decimal128('2374.00')},\n",
       " {'_id': [['California']],\n",
       "  'CreditLimit_avg': Decimal128('2787.307692307692307692307692307692')},\n",
       " {'_id': [['Pennsylvania']],\n",
       "  'CreditLimit_avg': Decimal128('2255.833333333333333333333333333333')},\n",
       " {'_id': [['Virginia']], 'CreditLimit_avg': Decimal128('2915.00')},\n",
       " {'_id': [['Massachusetts[E]']], 'CreditLimit_avg': Decimal128('2507.50')},\n",
       " {'_id': [['Louisiana']],\n",
       "  'CreditLimit_avg': Decimal128('2372.041666666666666666666666666667')},\n",
       " {'_id': [['Connecticut']], 'CreditLimit_avg': Decimal128('3500.00')},\n",
       " {'_id': [['Puerto Rico (US Territory)']],\n",
       "  'CreditLimit_avg': Decimal128('2766.666666666666666666666666666667')},\n",
       " {'_id': [['Indiana']], 'CreditLimit_avg': Decimal128('3098.75')},\n",
       " {'_id': [['Wisconsin']],\n",
       "  'CreditLimit_avg': Decimal128('2133.333333333333333333333333333333')},\n",
       " {'_id': [['South Dakota']], 'CreditLimit_avg': Decimal128('2747.50')},\n",
       " {'_id': [['Iowa']],\n",
       "  'CreditLimit_avg': Decimal128('2481.666666666666666666666666666667')},\n",
       " {'_id': [['South Carolina']],\n",
       "  'CreditLimit_avg': Decimal128('2479.166666666666666666666666666667')},\n",
       " {'_id': [['Georgia']], 'CreditLimit_avg': Decimal128('2631.75')},\n",
       " {'_id': [['Washington']], 'CreditLimit_avg': Decimal128('2520.00')},\n",
       " {'_id': [['Montana']],\n",
       "  'CreditLimit_avg': Decimal128('1666.666666666666666666666666666667')},\n",
       " {'_id': [['North Dakota']], 'CreditLimit_avg': Decimal128('2500.00')},\n",
       " {'_id': [['Wyoming']], 'CreditLimit_avg': Decimal128('3365.00')},\n",
       " {'_id': [['Arizona']], 'CreditLimit_avg': Decimal128('2950.00')},\n",
       " {'_id': [['New York']],\n",
       "  'CreditLimit_avg': Decimal128('2758.928571428571428571428571428571')},\n",
       " {'_id': [['Oregon']], 'CreditLimit_avg': Decimal128('3530.00')},\n",
       " {'_id': [['Alabama']], 'CreditLimit_avg': Decimal128('1985.00')},\n",
       " {'_id': [['Minnesota']], 'CreditLimit_avg': Decimal128('2513.125')},\n",
       " {'_id': [['Ohio']],\n",
       "  'CreditLimit_avg': Decimal128('2942.857142857142857142857142857143')},\n",
       " {'_id': [['New Hampshire']], 'CreditLimit_avg': Decimal128('2800.00')},\n",
       " {'_id': [['Michigan']],\n",
       "  'CreditLimit_avg': Decimal128('2773.333333333333333333333333333333')},\n",
       " {'_id': [['Kansas']], 'CreditLimit_avg': Decimal128('2900.00')},\n",
       " {'_id': [['Idaho']], 'CreditLimit_avg': Decimal128('2700.00')},\n",
       " {'_id': [['Nevada']], 'CreditLimit_avg': Decimal128('3600.00')},\n",
       " {'_id': [['Maryland']], 'CreditLimit_avg': Decimal128('1750.00')},\n",
       " {'_id': [['Illinois']], 'CreditLimit_avg': Decimal128('2336.00')},\n",
       " {'_id': [['North Carolina']],\n",
       "  'CreditLimit_avg': Decimal128('2661.363636363636363636363636363636')},\n",
       " {'_id': [['Vermont']], 'CreditLimit_avg': Decimal128('2000.00')},\n",
       " {'_id': [['Nebraska']], 'CreditLimit_avg': Decimal128('2595.00')},\n",
       " {'_id': [['Hawaii']], 'CreditLimit_avg': None},\n",
       " {'_id': [['New Jersey']],\n",
       "  'CreditLimit_avg': Decimal128('2641.428571428571428571428571428571')},\n",
       " {'_id': [['Missouri']],\n",
       "  'CreditLimit_avg': Decimal128('2613.333333333333333333333333333333')},\n",
       " {'_id': [['Colorado']],\n",
       "  'CreditLimit_avg': Decimal128('2033.333333333333333333333333333333')},\n",
       " {'_id': [['Arkansas']],\n",
       "  'CreditLimit_avg': Decimal128('3044.166666666666666666666666666667')},\n",
       " {'_id': [['Mississippi']], 'CreditLimit_avg': Decimal128('2400.00')},\n",
       " {'_id': [['Alaska']],\n",
       "  'CreditLimit_avg': Decimal128('2858.333333333333333333333333333333')},\n",
       " {'_id': [['Maine']], 'CreditLimit_avg': Decimal128('2400.00')}]"
      ]
     },
     "execution_count": 43,
     "metadata": {},
     "output_type": "execute_result"
    },
    {
     "data": {
      "text/plain": [
       "[{'_id': [['Tennessee']], 'CreditLimit_avg': Decimal128('3465.00')},\n",
       " {'_id': [['Utah']], 'CreditLimit_avg': Decimal128('3200.00')},\n",
       " {'_id': [['Florida']], 'CreditLimit_avg': Decimal128('2800.00')},\n",
       " {'_id': [['Oklahoma']], 'CreditLimit_avg': Decimal128('2806.00')},\n",
       " {'_id': [['New Mexico']], 'CreditLimit_avg': Decimal128('2741.00')},\n",
       " {'_id': [['Texas']], 'CreditLimit_avg': Decimal128('2312.50')},\n",
       " {'_id': [['West Virginia']],\n",
       "  'CreditLimit_avg': Decimal128('2567.857142857142857142857142857143')},\n",
       " {'_id': [['Kentucky']], 'CreditLimit_avg': Decimal128('2374.00')},\n",
       " {'_id': [['California']],\n",
       "  'CreditLimit_avg': Decimal128('2787.307692307692307692307692307692')},\n",
       " {'_id': [['Pennsylvania']],\n",
       "  'CreditLimit_avg': Decimal128('2255.833333333333333333333333333333')},\n",
       " {'_id': [['Virginia']], 'CreditLimit_avg': Decimal128('2915.00')},\n",
       " {'_id': [['Massachusetts[E]']], 'CreditLimit_avg': Decimal128('2507.50')},\n",
       " {'_id': [['Louisiana']],\n",
       "  'CreditLimit_avg': Decimal128('2372.041666666666666666666666666667')},\n",
       " {'_id': [['Connecticut']], 'CreditLimit_avg': Decimal128('3500.00')},\n",
       " {'_id': [['Puerto Rico (US Territory)']],\n",
       "  'CreditLimit_avg': Decimal128('2766.666666666666666666666666666667')},\n",
       " {'_id': [['Indiana']], 'CreditLimit_avg': Decimal128('3098.75')},\n",
       " {'_id': [['Wisconsin']],\n",
       "  'CreditLimit_avg': Decimal128('2133.333333333333333333333333333333')},\n",
       " {'_id': [['South Dakota']], 'CreditLimit_avg': Decimal128('2747.50')},\n",
       " {'_id': [['Iowa']],\n",
       "  'CreditLimit_avg': Decimal128('2481.666666666666666666666666666667')},\n",
       " {'_id': [['South Carolina']],\n",
       "  'CreditLimit_avg': Decimal128('2479.166666666666666666666666666667')},\n",
       " {'_id': [['Georgia']], 'CreditLimit_avg': Decimal128('2631.75')},\n",
       " {'_id': [['Washington']], 'CreditLimit_avg': Decimal128('2520.00')},\n",
       " {'_id': [['Montana']],\n",
       "  'CreditLimit_avg': Decimal128('1666.666666666666666666666666666667')},\n",
       " {'_id': [['North Dakota']], 'CreditLimit_avg': Decimal128('2500.00')},\n",
       " {'_id': [['Wyoming']], 'CreditLimit_avg': Decimal128('3365.00')},\n",
       " {'_id': [['Arizona']], 'CreditLimit_avg': Decimal128('2950.00')},\n",
       " {'_id': [['New York']],\n",
       "  'CreditLimit_avg': Decimal128('2758.928571428571428571428571428571')},\n",
       " {'_id': [['Oregon']], 'CreditLimit_avg': Decimal128('3530.00')},\n",
       " {'_id': [['Alabama']], 'CreditLimit_avg': Decimal128('1985.00')},\n",
       " {'_id': [['Minnesota']], 'CreditLimit_avg': Decimal128('2513.125')},\n",
       " {'_id': [['Ohio']],\n",
       "  'CreditLimit_avg': Decimal128('2942.857142857142857142857142857143')},\n",
       " {'_id': [['New Hampshire']], 'CreditLimit_avg': Decimal128('2800.00')},\n",
       " {'_id': [['Michigan']],\n",
       "  'CreditLimit_avg': Decimal128('2773.333333333333333333333333333333')},\n",
       " {'_id': [['Kansas']], 'CreditLimit_avg': Decimal128('2900.00')},\n",
       " {'_id': [['Idaho']], 'CreditLimit_avg': Decimal128('2700.00')},\n",
       " {'_id': [['Nevada']], 'CreditLimit_avg': Decimal128('3600.00')},\n",
       " {'_id': [['Maryland']], 'CreditLimit_avg': Decimal128('1750.00')},\n",
       " {'_id': [['Illinois']], 'CreditLimit_avg': Decimal128('2336.00')},\n",
       " {'_id': [['North Carolina']],\n",
       "  'CreditLimit_avg': Decimal128('2661.363636363636363636363636363636')},\n",
       " {'_id': [['Vermont']], 'CreditLimit_avg': Decimal128('2000.00')},\n",
       " {'_id': [['Nebraska']], 'CreditLimit_avg': Decimal128('2595.00')},\n",
       " {'_id': [['Hawaii']], 'CreditLimit_avg': None},\n",
       " {'_id': [['New Jersey']],\n",
       "  'CreditLimit_avg': Decimal128('2641.428571428571428571428571428571')},\n",
       " {'_id': [['Missouri']],\n",
       "  'CreditLimit_avg': Decimal128('2613.333333333333333333333333333333')},\n",
       " {'_id': [['Colorado']],\n",
       "  'CreditLimit_avg': Decimal128('2033.333333333333333333333333333333')},\n",
       " {'_id': [['Arkansas']],\n",
       "  'CreditLimit_avg': Decimal128('3044.166666666666666666666666666667')},\n",
       " {'_id': [['Mississippi']], 'CreditLimit_avg': Decimal128('2400.00')},\n",
       " {'_id': [['Alaska']],\n",
       "  'CreditLimit_avg': Decimal128('2858.333333333333333333333333333333')},\n",
       " {'_id': [['Maine']], 'CreditLimit_avg': Decimal128('2400.00')}]"
      ]
     },
     "execution_count": 43,
     "metadata": {},
     "output_type": "execute_result"
    }
   ],
   "source": [
    "query_1 = { #selects CreditLimit and StateProvinceName from the collection created in the Modeling Notebook\n",
    "    '$project':{\n",
    "        '_id':0,\n",
    "        'CreditLimit':1,\n",
    "        'StateProvinceName':'$city_list.StateProvince_list.StateProvinceName'\n",
    "    }\n",
    "}\n",
    "\n",
    "query_2 = { #groups by StateProvinceName and performs an Avg function in CreditLimit\n",
    "    \n",
    "    '$group': {\n",
    "            '_id' : '$StateProvinceName',\n",
    "            'CreditLimit_avg': { '$avg': '$CreditLimit' } }}\n",
    "\n",
    "query_3 = { #limits one output per instance\n",
    "    '$limit': 1}\n",
    "\n",
    "pipeline = [query_1,query_2 ]\n",
    "\n",
    "\n",
    "r = db.customers_city_state_embed.aggregate(pipeline)\n",
    "\n",
    "result = list(r)\n",
    "\n",
    "result"
   ]
  },
  {
   "cell_type": "markdown",
   "metadata": {},
   "source": [
    "## E- What are the yearly expenditures with each supplier (per supplier name)?"
   ]
  },
  {
   "cell_type": "code",
   "execution_count": 44,
   "metadata": {},
   "outputs": [
    {
     "data": {
      "text/plain": [
       "[{'yearly_expenditures': Decimal128('0.00'),\n",
       "  'SupplierName': ['Contoso, Ltd.'],\n",
       "  'year': 2013},\n",
       " {'yearly_expenditures': Decimal128('485380.50'),\n",
       "  'SupplierName': ['Fabrikam, Inc.'],\n",
       "  'year': 2013},\n",
       " {'yearly_expenditures': Decimal128('0.00'),\n",
       "  'SupplierName': ['Graphic Design Institute'],\n",
       "  'year': 2013},\n",
       " {'yearly_expenditures': Decimal128('119343.32'),\n",
       "  'SupplierName': ['Litware, Inc.'],\n",
       "  'year': 2013},\n",
       " {'yearly_expenditures': Decimal128('0.00'),\n",
       "  'SupplierName': ['Northwind Electric Cars'],\n",
       "  'year': 2013},\n",
       " {'yearly_expenditures': Decimal128('0.00'),\n",
       "  'SupplierName': ['The Phone Company'],\n",
       "  'year': 2013},\n",
       " {'yearly_expenditures': Decimal128('1510955.10'),\n",
       "  'SupplierName': ['Fabrikam, Inc.'],\n",
       "  'year': 2014},\n",
       " {'yearly_expenditures': Decimal128('686937.21'),\n",
       "  'SupplierName': ['Litware, Inc.'],\n",
       "  'year': 2014},\n",
       " {'yearly_expenditures': Decimal128('2837528.40'),\n",
       "  'SupplierName': ['Fabrikam, Inc.'],\n",
       "  'year': 2015},\n",
       " {'yearly_expenditures': Decimal128('1353734.69'),\n",
       "  'SupplierName': ['Litware, Inc.'],\n",
       "  'year': 2015},\n",
       " {'yearly_expenditures': Decimal128('0.00'),\n",
       "  'SupplierName': ['A Datum Corporation'],\n",
       "  'year': 2016},\n",
       " {'yearly_expenditures': Decimal128('-2961969.90'),\n",
       "  'SupplierName': ['Fabrikam, Inc.'],\n",
       "  'year': 2016},\n",
       " {'yearly_expenditures': Decimal128('-1310231.11'),\n",
       "  'SupplierName': ['Litware, Inc.'],\n",
       "  'year': 2016}]"
      ]
     },
     "execution_count": 44,
     "metadata": {},
     "output_type": "execute_result"
    },
    {
     "data": {
      "text/plain": [
       "[{'yearly_expenditures': Decimal128('0.00'),\n",
       "  'SupplierName': ['Contoso, Ltd.'],\n",
       "  'year': 2013},\n",
       " {'yearly_expenditures': Decimal128('485380.50'),\n",
       "  'SupplierName': ['Fabrikam, Inc.'],\n",
       "  'year': 2013},\n",
       " {'yearly_expenditures': Decimal128('0.00'),\n",
       "  'SupplierName': ['Graphic Design Institute'],\n",
       "  'year': 2013},\n",
       " {'yearly_expenditures': Decimal128('119343.32'),\n",
       "  'SupplierName': ['Litware, Inc.'],\n",
       "  'year': 2013},\n",
       " {'yearly_expenditures': Decimal128('0.00'),\n",
       "  'SupplierName': ['Northwind Electric Cars'],\n",
       "  'year': 2013},\n",
       " {'yearly_expenditures': Decimal128('0.00'),\n",
       "  'SupplierName': ['The Phone Company'],\n",
       "  'year': 2013},\n",
       " {'yearly_expenditures': Decimal128('1510955.10'),\n",
       "  'SupplierName': ['Fabrikam, Inc.'],\n",
       "  'year': 2014},\n",
       " {'yearly_expenditures': Decimal128('686937.21'),\n",
       "  'SupplierName': ['Litware, Inc.'],\n",
       "  'year': 2014},\n",
       " {'yearly_expenditures': Decimal128('2837528.40'),\n",
       "  'SupplierName': ['Fabrikam, Inc.'],\n",
       "  'year': 2015},\n",
       " {'yearly_expenditures': Decimal128('1353734.69'),\n",
       "  'SupplierName': ['Litware, Inc.'],\n",
       "  'year': 2015},\n",
       " {'yearly_expenditures': Decimal128('0.00'),\n",
       "  'SupplierName': ['A Datum Corporation'],\n",
       "  'year': 2016},\n",
       " {'yearly_expenditures': Decimal128('-2961969.90'),\n",
       "  'SupplierName': ['Fabrikam, Inc.'],\n",
       "  'year': 2016},\n",
       " {'yearly_expenditures': Decimal128('-1310231.11'),\n",
       "  'SupplierName': ['Litware, Inc.'],\n",
       "  'year': 2016}]"
      ]
     },
     "execution_count": 44,
     "metadata": {},
     "output_type": "execute_result"
    }
   ],
   "source": [
    "query_1 = { #selects the TransactionAmount, year from TransactionDate, and SupplierName from the collection created\n",
    "    '$project':{\n",
    "        'TransactionAmount':1,\n",
    "        'year' : { '$year' :  \"$TransactionDate\"},\n",
    "        'SupplierName':'$suppliers_list.SupplierName'        \n",
    "    }\n",
    "}\n",
    "\n",
    "query_2 = { #groups the outputs by SupplierName and year, and performs a summation in TransactionAmount, named yearly_expenditures   \n",
    "    '$group': {\n",
    "            '_id' : {'SupplierName' : \"$SupplierName\", 'year' :'$year' },\n",
    "            'yearly_expenditures': { '$sum': '$TransactionAmount'} }}\n",
    "\n",
    "query_3 = { #retrieves SupplierName, year, and yearly_expenditures\n",
    "    '$project':{ \n",
    "        '_id':0,\n",
    "        'SupplierName':'$_id.SupplierName',\n",
    "        'year' : '$_id.year',\n",
    "        'yearly_expenditures':1       \n",
    "    }\n",
    "}\n",
    "\n",
    "query_4 = { #sorts the results in year and SupplierName in ascending order\n",
    "    '$sort': {'year':1,'SupplierName':1,}}\n",
    "\n",
    "\n",
    "pipeline = [query_1,query_2,query_3,query_4]\n",
    "\n",
    "r = db.suppliertransactions_suppliers_embed.aggregate(pipeline)\n",
    "\n",
    "result = list(r)\n",
    "\n",
    "result"
   ]
  },
  {
   "cell_type": "markdown",
   "metadata": {},
   "source": [
    "# 4. Partnerships needs to know:"
   ]
  },
  {
   "cell_type": "markdown",
   "metadata": {},
   "source": [
    "## A- What is the most common payment type?"
   ]
  },
  {
   "cell_type": "code",
   "execution_count": 45,
   "metadata": {},
   "outputs": [
    {
     "data": {
      "text/plain": [
       "[{'_id': ['EFT'], 'Number_of_Method': 2438}]"
      ]
     },
     "execution_count": 45,
     "metadata": {},
     "output_type": "execute_result"
    },
    {
     "data": {
      "text/plain": [
       "[{'_id': ['EFT'], 'Number_of_Method': 2438}]"
      ]
     },
     "execution_count": 45,
     "metadata": {},
     "output_type": "execute_result"
    }
   ],
   "source": [
    "query_1 = { #selects _id, SupplierTransactionID, and PaymentMethodName from the collection paymentmethods_list\n",
    "    '$project':{\n",
    "        '_id':1,\n",
    "        'SupplierTransactionID':1,\n",
    "        'PaymentMethodName':'$paymentmethods_list.PaymentMethodName'\n",
    "    }\n",
    "}\n",
    "\n",
    "query_2 = { #groups the outputs by PaymentMethodName, makes a summation of the instances and stores in Number_of_Method\n",
    "    '$group': {\n",
    "            '_id' : '$PaymentMethodName',\n",
    "            'Number_of_Method': { '$sum':1 } }}\n",
    "\n",
    "\n",
    "pipeline = [query_1,query_2 ]\n",
    "\n",
    "\n",
    "r = db.suppliertransactions_paymentmethods_embed.aggregate(pipeline)\n",
    "\n",
    "result = list(r)\n",
    "\n",
    "result"
   ]
  },
  {
   "cell_type": "markdown",
   "metadata": {},
   "source": [
    "## B- What percentage of people have their Title as Team Member?"
   ]
  },
  {
   "cell_type": "code",
   "execution_count": 46,
   "metadata": {},
   "outputs": [
    {
     "name": "stdout",
     "output_type": "stream",
     "text": [
      "1.17%\n",
      "1.17%\n"
     ]
    }
   ],
   "source": [
    "#finds the instances on which CustomerFields is equal to \"Team Member\" and retrieves the percentage by dividing for the total number of people\n",
    "result = len(list(db.people.find({'CustomFields' : { '$regex':'\"Team Member\"' }})))/len(list(db.people.find()))\n",
    "#converts the results to the percentage format\n",
    "print (\"{0:.2%}\".format(result))"
   ]
  },
  {
   "cell_type": "markdown",
   "metadata": {},
   "source": [
    "## C- Which supplier of the category Novelty Goods Supplier has the most transactions?"
   ]
  },
  {
   "cell_type": "code",
   "execution_count": 47,
   "metadata": {},
   "outputs": [
    {
     "data": {
      "text/plain": [
       "[{'_id': ['Graphic Design Institute'], 'count': 16}]"
      ]
     },
     "execution_count": 47,
     "metadata": {},
     "output_type": "execute_result"
    },
    {
     "data": {
      "text/plain": [
       "[{'_id': ['Graphic Design Institute'], 'count': 16}]"
      ]
     },
     "execution_count": 47,
     "metadata": {},
     "output_type": "execute_result"
    }
   ],
   "source": [
    "query_1 = { #finds the SupplierCategoryName that matches to Novelty Goods Supplier, using the collection created in the Modeling notebook\n",
    "    '$match': {'suppliers_list.suppliercategories_list.SupplierCategoryName' :{'$eq' : 'Novelty Goods Supplier'}}\n",
    "}\n",
    "\n",
    "query_2 = { #selects the TransactionAmount and SupplierName\n",
    "    '$project':{\n",
    "        '_id':0,\n",
    "        'TransactionAmount':1,\n",
    "        'SupplierName':'$suppliers_list.SupplierName'\n",
    "    }\n",
    "}\n",
    "\n",
    "query_3 = { #groups by SupplierName and counts the number of instances\n",
    "    '$group': {\n",
    "        '_id' : '$SupplierName',\n",
    "        'count': { '$sum': 1 } \n",
    "    }\n",
    "}\n",
    "\n",
    "query_4 = { #sorts the results based on count in descending order\n",
    "    '$sort': {'count':-1}}\n",
    "\n",
    "query_5 = { #limits to one output\n",
    "    '$limit':1}\n",
    "\n",
    "pipeline = [query_1,query_2,query_3,query_4,query_5]\n",
    "\n",
    "\n",
    "r = db.suppliertransactions_suppliers_suppliercategories_embed.aggregate(pipeline)\n",
    "\n",
    "result = list(r)\n",
    "\n",
    "result"
   ]
  },
  {
   "cell_type": "markdown",
   "metadata": {},
   "source": [
    "## D- What is the highest CommissionRate that a person has?"
   ]
  },
  {
   "cell_type": "code",
   "execution_count": 48,
   "metadata": {},
   "outputs": [
    {
     "data": {
      "text/plain": [
       "[{'CommissionRate': '4.55'}]"
      ]
     },
     "execution_count": 48,
     "metadata": {},
     "output_type": "execute_result"
    },
    {
     "data": {
      "text/plain": [
       "[{'CommissionRate': '4.55'}]"
      ]
     },
     "execution_count": 48,
     "metadata": {},
     "output_type": "execute_result"
    }
   ],
   "source": [
    "query_1 = { #finds the CustomFields that matches with CommissionRate using $regex\n",
    "    '$match': {'CustomFields' :{ '$regex':'\"CommissionRate\"' }}\n",
    "}\n",
    "\n",
    "query_2 = { #selects CustomFields, and retrieves the ComissionRate using the iterate functions for string and substrings $strLenCP and $substrCP\n",
    "    '$project':{\n",
    "        '_id':0,\n",
    "        'CustomFields':1,\n",
    "        \"CommissionRate\": { \n",
    "            '$substrCP': [\n",
    "                \"$CustomFields\",{ '$subtract': [ { '$strLenCP': \"$CustomFields\" }, 6] },4]\n",
    "        }\n",
    "    }\n",
    "}\n",
    "\n",
    "query_3 = { #selects all the outputs, but CustomFields\n",
    "    '$project':{\n",
    "        'CustomFields':0}}\n",
    "\n",
    "query_4 = { #sorts the results based in ComissionRate in descending Order\n",
    "    '$sort': {'CommissionRate':-1}}\n",
    "\n",
    "query_5 = { #shows only the first output\n",
    "    '$limit':1}\n",
    "\n",
    "\n",
    "pipeline = [query_1,query_2,query_3,query_4,query_5]\n",
    "\n",
    "\n",
    "r = db.people.aggregate(pipeline)\n",
    "\n",
    "result = list(r)\n",
    "\n",
    "result"
   ]
  },
  {
   "cell_type": "markdown",
   "metadata": {},
   "source": [
    "# 5. The marketing team needs to know:"
   ]
  },
  {
   "cell_type": "markdown",
   "metadata": {},
   "source": [
    "## A- What is the name of the sales person with the largest sum of invoice values in 2013 (person whose customers paid the most money)?"
   ]
  },
  {
   "cell_type": "code",
   "execution_count": 49,
   "metadata": {},
   "outputs": [
    {
     "data": {
      "text/plain": [
       "[{'_id': 'Hudson Onslow', 'invoice_values': Decimal128('4864279.75')}]"
      ]
     },
     "execution_count": 49,
     "metadata": {},
     "output_type": "execute_result"
    },
    {
     "data": {
      "text/plain": [
       "[{'_id': 'Hudson Onslow', 'invoice_values': Decimal128('4864279.75')}]"
      ]
     },
     "execution_count": 49,
     "metadata": {},
     "output_type": "execute_result"
    }
   ],
   "source": [
    "# accesses the collection invoicelines_invoices_people_embed, created in the Modeling notebook\n",
    "collection = db.invoicelines_invoices_people_embed\n",
    "\n",
    "\n",
    "query_1 = { #selects FullName, invoice_values, invoiceDate from the collection\n",
    "    '$project':{\n",
    "        'FullName':'$invoice_list.people_list.FullName',\n",
    "        'invoice_values':{'$multiply':['$Quantity','$UnitPrice']},\n",
    "        'InvoiceDate':'$invoice_list.InvoiceDate',\n",
    "    }\n",
    "}\n",
    "\n",
    "query_2 = { #deconstructs the FullName\n",
    "    '$unwind' : '$FullName'\n",
    "}\n",
    "\n",
    "query_3 = {  #deconstructs the FullName @is this one necessary??\n",
    "    '$unwind' : '$FullName'\n",
    "}\n",
    "\n",
    "query_4 = { #deconstructs the InvoiceDate\n",
    "    '$unwind' : '$InvoiceDate'\n",
    "}\n",
    "\n",
    "query_5= {\n",
    "    '$project':{  #selects invoice_values, FullName, and year from InvoiceDate\n",
    "        'invoice_values':1,\n",
    "        'FullName':1,\n",
    "        'year' : { '$year' :  \"$InvoiceDate\"}  \n",
    "    }\n",
    "}\n",
    "\n",
    "query_6 = { #finds instances that corresponds to year 2013\n",
    "    '$match' : {\n",
    "        'year': 2013\n",
    "    }    \n",
    "}\n",
    "\n",
    "query_7 = { #groups the outputs by FullName, and performs a summation on invoice_values\n",
    "    '$group':{'_id' : '$FullName',\n",
    "              'invoice_values': { '$sum': '$invoice_values'} \n",
    "        \n",
    "    }\n",
    "}\n",
    "\n",
    "query_8 = { #sorts the outputs based on invoice_values in descending order\n",
    "    '$sort': {'invoice_values':-1}}\n",
    "\n",
    "query_9 = { #shows only one output\n",
    "    '$limit':1}\n",
    "\n",
    "pipeline = [query_1,query_2,query_3,query_4,query_5,query_6,query_7,query_8,query_9]\n",
    "\n",
    "r = collection.aggregate(pipeline)\n",
    "\n",
    "result = list(r)\n",
    "\n",
    "result"
   ]
  },
  {
   "cell_type": "markdown",
   "metadata": {},
   "source": [
    "## B- Who are the most common PickedByPersonID person names for orders done by customer Adriana Pena?"
   ]
  },
  {
   "cell_type": "code",
   "execution_count": 50,
   "metadata": {},
   "outputs": [
    {
     "data": {
      "text/plain": [
       "[{'FullName': ['Anthony Grosse'], 'Count': 3},\n",
       " {'FullName': ['Piper Koch'], 'Count': 3},\n",
       " {'FullName': ['Katie Darwin'], 'Count': 3}]"
      ]
     },
     "execution_count": 50,
     "metadata": {},
     "output_type": "execute_result"
    },
    {
     "data": {
      "text/plain": [
       "[{'FullName': ['Anthony Grosse'], 'Count': 3},\n",
       " {'FullName': ['Piper Koch'], 'Count': 3},\n",
       " {'FullName': ['Katie Darwin'], 'Count': 3}]"
      ]
     },
     "execution_count": 50,
     "metadata": {},
     "output_type": "execute_result"
    }
   ],
   "source": [
    "query_1 = { #finds the instances where CustomerName is equal to 'Adriana Pena', and PersonalInfo.FullName exists and is not equal to empty\n",
    "    '$match' : {\n",
    "        'CustomerInfo.CustomerName' : {'$eq' : 'Adriana Pena'},\n",
    "        'PersonInfo.FullName' : {'$exists': True, '$ne': []} \n",
    "    }\n",
    "}\n",
    "\n",
    "query_2 = { #selects CustomerID and FullName as 1\n",
    "    '$project' : {\n",
    "        '_id' : False,\n",
    "        'CustomerID' : 1,\n",
    "        'PersonInfo.FullName' : 1\n",
    "    }\n",
    "}\n",
    "\n",
    "\n",
    "query_3 = { #groups by FullName, and performs a summation in 1 (FullName)\n",
    "    '$group': {\n",
    "        '_id': {'FullName' : '$PersonInfo.FullName'}, \n",
    "        'count' : {'$sum': 1}           \n",
    "    }\n",
    "}\n",
    "\n",
    "\n",
    "query_4 = { #sorts the results based on count in descending order\n",
    "    '$sort': {\n",
    "        'count': -1\n",
    "    }\n",
    "}\n",
    "\n",
    "\n",
    "query_5 = { #shows only the first three results\n",
    "    '$limit': 3\n",
    "}\n",
    "\n",
    "\n",
    "query_6 = { #selects FullName and the Count\n",
    "    '$project' : {\n",
    "        '_id' : False,\n",
    "        'FullName' : '$_id.FullName',\n",
    "        'Count' : '$count'\n",
    "    }\n",
    "}\n",
    "\n",
    "pipeline = [query_1,query_2,query_3,query_4,query_5,query_6]\n",
    "\n",
    "\n",
    "r = db.orders_people_customers_embed.aggregate(pipeline)\n",
    "\n",
    "result = list(r)\n",
    "\n",
    "result"
   ]
  },
  {
   "cell_type": "markdown",
   "metadata": {},
   "source": [
    "## C- How many people have in their name the string Sara?"
   ]
  },
  {
   "cell_type": "code",
   "execution_count": 51,
   "metadata": {
    "scrolled": true
   },
   "outputs": [
    {
     "data": {
      "text/plain": [
       "5"
      ]
     },
     "execution_count": 51,
     "metadata": {},
     "output_type": "execute_result"
    },
    {
     "data": {
      "text/plain": [
       "5"
      ]
     },
     "execution_count": 51,
     "metadata": {},
     "output_type": "execute_result"
    }
   ],
   "source": [
    "#finds people with the FullName equal to 'Sara' using $regex, and retrieves the amount by using the len of the list\n",
    "len(list(db.people.find({\"FullName\": {'$regex': 'Sara'} },{\"FullName\":1,\"_id\":1})))"
   ]
  },
  {
   "cell_type": "markdown",
   "metadata": {},
   "source": [
    "## D- What are the top 10 most Common Names (Primary or Surnames) of people?"
   ]
  },
  {
   "cell_type": "code",
   "execution_count": 52,
   "metadata": {},
   "outputs": [
    {
     "data": {
      "text/plain": [
       "[{'count': 8, 'name': 'Bose'},\n",
       " {'count': 7, 'name': 'Ganguly'},\n",
       " {'count': 6, 'name': 'Thakur'},\n",
       " {'count': 6, 'name': 'Roman'},\n",
       " {'count': 5, 'name': 'Dhanishta'},\n",
       " {'count': 5, 'name': 'Van'},\n",
       " {'count': 5, 'name': 'PrabhupÄ\\x81da'},\n",
       " {'count': 5, 'name': 'De'},\n",
       " {'count': 5, 'name': 'David'},\n",
       " {'count': 5, 'name': 'Mukherjee'}]"
      ]
     },
     "execution_count": 52,
     "metadata": {},
     "output_type": "execute_result"
    },
    {
     "data": {
      "text/plain": [
       "[{'count': 8, 'name': 'Bose'},\n",
       " {'count': 7, 'name': 'Ganguly'},\n",
       " {'count': 6, 'name': 'Thakur'},\n",
       " {'count': 6, 'name': 'Roman'},\n",
       " {'count': 5, 'name': 'Dhanishta'},\n",
       " {'count': 5, 'name': 'Van'},\n",
       " {'count': 5, 'name': 'PrabhupÄ\\x81da'},\n",
       " {'count': 5, 'name': 'De'},\n",
       " {'count': 5, 'name': 'David'},\n",
       " {'count': 5, 'name': 'Mukherjee'}]"
      ]
     },
     "execution_count": 52,
     "metadata": {},
     "output_type": "execute_result"
    }
   ],
   "source": [
    "query_1 = { #selects the Fullname splited by its spaces \" \", and rename to name\n",
    "    '$project': {\n",
    "        '_id' : False,\n",
    "        'name' : { '$split': [\"$FullName\" , \" \"]}}\n",
    "}\n",
    "\n",
    "query_2 = { #deconstructs name\n",
    "    '$unwind' : \"$name\"\n",
    "}\n",
    "\n",
    "query_3 = { #finds the instances where name corresponds to \".+\"\n",
    "    \"$match\": {\n",
    "        \"name\": {\"$regex\": \".+\"}\n",
    "    }\n",
    "}\n",
    "\n",
    "query_4 = { #groups the outputs by name and count the number of instances\n",
    "    '$group': {\n",
    "        '_id': {'name' : '$name'},\n",
    "        'count' : {'$sum' : 1}\n",
    "    }\n",
    "}\n",
    "\n",
    "query_5 = { #sorts the results based on Count in descending order\n",
    "    '$sort' : { 'count' : -1 }\n",
    "}\n",
    "\n",
    "query_6 = { #limits the output for the first 10 results\n",
    "    '$limit': 10\n",
    "}\n",
    "\n",
    "query_7 = { #selects the Name and the Count\n",
    "    '$project': {\n",
    "        '_id' : False,\n",
    "        'name' : '$_id.name',\n",
    "        'count': 1}\n",
    "}\n",
    "\n",
    "pipeline = [query_1,query_2,query_3,query_4,query_5,query_6,query_7]\n",
    "\n",
    "r = db.people.aggregate(pipeline)\n",
    "\n",
    "result = list(r)\n",
    "\n",
    "result"
   ]
  }
 ],
 "metadata": {
  "hide_input": false,
  "kernelspec": {
   "display_name": "Python 3 (ipykernel)",
   "language": "python",
   "name": "python3"
  },
  "language_info": {
   "codemirror_mode": {
    "name": "ipython",
    "version": 3
   },
   "file_extension": ".py",
   "mimetype": "text/x-python",
   "name": "python",
   "nbconvert_exporter": "python",
   "pygments_lexer": "ipython3",
   "version": "3.11.7"
  },
  "toc": {
   "base_numbering": 1,
   "nav_menu": {},
   "number_sections": true,
   "sideBar": true,
   "skip_h1_title": false,
   "title_cell": "Table of Contents",
   "title_sidebar": "Contents",
   "toc_cell": false,
   "toc_position": {},
   "toc_section_display": true,
   "toc_window_display": false
  },
  "varInspector": {
   "cols": {
    "lenName": 16,
    "lenType": 16,
    "lenVar": 40
   },
   "kernels_config": {
    "python": {
     "delete_cmd_postfix": "",
     "delete_cmd_prefix": "del ",
     "library": "var_list.py",
     "varRefreshCmd": "print(var_dic_list())"
    },
    "r": {
     "delete_cmd_postfix": ") ",
     "delete_cmd_prefix": "rm(",
     "library": "var_list.r",
     "varRefreshCmd": "cat(var_dic_list()) "
    }
   },
   "types_to_exclude": [
    "module",
    "function",
    "builtin_function_or_method",
    "instance",
    "_Feature"
   ],
   "window_display": false
  }
 },
 "nbformat": 4,
 "nbformat_minor": 4
}
