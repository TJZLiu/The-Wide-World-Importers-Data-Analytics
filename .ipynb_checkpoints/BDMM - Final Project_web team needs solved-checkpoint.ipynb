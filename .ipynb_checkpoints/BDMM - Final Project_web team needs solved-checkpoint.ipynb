{
 "cells": [
  {
   "cell_type": "markdown",
   "metadata": {},
   "source": [
    "# Big Data Modelling and Management 2022"
   ]
  },
  {
   "cell_type": "markdown",
   "metadata": {},
   "source": [
    "Group number: \n",
    "\n",
    "Students (name : student number):\n",
    "\n",
    "\n",
    "1.\n",
    "\n",
    "\n",
    "2.\n",
    "\n",
    "3.\n",
    "\n",
    "4.\n",
    "\n",
    "5.\n"
   ]
  },
  {
   "cell_type": "markdown",
   "metadata": {},
   "source": [
    "## 🚚 BDMM Second Homework Assignment 🚚 \n",
    "\n",
    "_The Wide World Importers (WWI) is a wholesales novelty goods importer and distributor operating from the San Francisco bay area. In this assignment we will be working with their database._ \n",
    "You can get more information and details about the WWI database in the following link: https://docs.microsoft.com/en-us/sql/samples/wide-world-importers-what-is?view=sql-server-ver15\n",
    "\n",
    "The focus of the second assignment is modelling. We will use the World Wide Importers database and convert it to a document-based database. To that end, we will be leveraging concepts like data denormalization, indices, and mongodb design patterns. \n",
    "\n",
    "More information on the extended datamodel to be found here: </br>  \n",
    "https://docs.microsoft.com/en-us/sql/samples/wide-world-importers-oltp-database-catalog?view=sql-server-ver15"
   ]
  },
  {
   "cell_type": "markdown",
   "metadata": {},
   "source": [
    "## Problem Description\n",
    "\n",
    "Your team has just arrived at WWI (a leading company in logistics). Welcome!   <br>\n",
    "Even though business is thriving, the IT department is going through a bad time.   <br>\n",
    "Digitalization was never a priority for the company and now the company operational and analytical requirements are starting to grow beyond the capabilities of their existing data architecture.   <br>\n",
    "\n",
    "WWI data are spread accross different systems, but we've already managed to pull them all into a mongo dump file. This data file is an exact dump of the SQL data so includes all the same structure, the SQL tables become collections and the rows become documents. This means all the original SQL keys are included in the data.<br>\n",
    "Currently, the costs to develop the necessary queries to collect data to answer questions asked by the different departments are too high. <br>\n",
    "\n",
    "Management concluded it is the right time to revise and revamp the data architecture, in order to speed up operations. \n",
    "\n",
    "In that context, your team was tasked with merging all the company data into a single and coherent Mongo database. <br>\n",
    "It is expected that, with your solution, WWI will have a better understanding of their business and that the different departments will be able to obtain efficiently the answers they need.\n",
    "\n",
    "The WWI team shared with you an ERD of their current datamodel:<br>\n",
    "![datamodel](./WWI.png)"
   ]
  },
  {
   "cell_type": "markdown",
   "metadata": {},
   "source": [
    "**Note** You can open the file WWI.png that is in the same directory as this notebook to see the above image in more detail and zoom in as you need.\n",
    "\n",
    "Addtionally, the WWI team asked you the deliver the following outputs in **4 weeks**:\n",
    "- Understand and model the database in MongoDB.\n",
    "- Setup the database so that it is performs well for the queries they have provided. You should include reasoning in comments for the decisions you make on modelling the database.\n",
    "- Answer the questions (queries) on the data provided.  \n",
    "- Submit the results by following the instructions.  \n",
    "\n",
    "With these deliveries, you will have created a prototype and allows the management to decide whether MongoDB is a good solution that meets their requirements."
   ]
  },
  {
   "cell_type": "markdown",
   "metadata": {},
   "source": [
    "### Design Requirements\n",
    "\n",
    "Note that WWI has the following query requirements for the database.\n",
    "\n",
    "1. The web team needs to know:  \n",
    "    1. Which state province do we have the most suppliers in?  \n",
    "    2. How many people have three or more `OtherLanguage`? \n",
    "    3. Top 10 most common `OtherLanguage` for people records. \n",
    "    4. How many customer records are valid after `November 2015`? \n",
    "    5. What percentage of people records don't have the UserPreferences field? \n",
    "\n",
    "2. The warehouse group needs to know:  \n",
    "    1. What is the average difference in days between OrderDate and ExpectedDeliveryDate for orders sold by (`SalespersonPersonID`) person with the name `Jack Potter`?\n",
    "    2. Which items get ordered the most in bulk (largest average quantity ordered)?  \n",
    "    3. Which two items get ordered together the most?\n",
    "    4. For each customer category which 3 items have the ordered the most?\n",
    "    5. What is the current stock of each stockgroup?\n",
    "\n",
    "3. The CFO needs to know:  \n",
    "    1. What is the monthly total order count for each month?  \n",
    "    2. How many orders are there from the customer `Tailspin Toys (Head Office)`?\n",
    "    3. What are the average monthly sales prices of all goods sold? \n",
    "    4. In each state province what is the average customer credit limit?   \n",
    "    5. What are the yearly expenditures with each supplier (per supplier name)?  \n",
    "\n",
    "4. Partnerships needs to know:  \n",
    "    1. What is the most common payment type?  \n",
    "    2. What percentage of people have their `Title` as `Team Member`?\n",
    "    3. Which supplier of the category `Novelty Goods Supplier` has the most transactions?  \n",
    "    4. What is the highest `CommissionRate` that a person has?\n",
    "\n",
    "5. The marketing team needs to know:  \n",
    "    1. What is the name of the sales person with the largest sum of invoice values in 2013 (person whose customers paid the most money)?\n",
    "    2. Who are the most common `PickedByPersonID` person names for orders done by customer `Adriana Pena`?\n",
    "    3. How many people have in their name the string `Sara`?\n",
    "    5. What are the top 10 most Common Names (Primary or Surnames) of people?\n",
    "\n",
    "Transform the mongo dump file provided with this notebook and model a database following mongodb's best practices. You should adjust the data model to best fit the use cases provided above. Think about collections, embedding, linking, indexing, and the patterns learned in class. Provide justifications for each decision you make. What, if any, are the trade-off's or disadvantages of your approach.\n",
    "\n",
    "Use MongoDB queries to answer the questions on your transformed database.\n",
    "\n",
    "### Deliverables\n",
    "\n",
    "1. Notebook with all DB creation operations and CRUD operations to create the data model. **Important** you should include in comments justification for your decisions on modelling the data.;\n",
    "2. Second notebook with all required queries and answers for the questions, **Important** please indicate with comments the steps in the data model you took to optimise each query;\n"
   ]
  },
  {
   "cell_type": "markdown",
   "metadata": {},
   "source": [
    "# Additional Information\n",
    "\n",
    "## Groups  \n",
    "\n",
    "Students should form groups of at least 4 and at most 5. <br>\n",
    "\n",
    "## Submission  Deadline\n",
    "\n",
    "The submission includes two notebooks with outputs (cells must be run). \n",
    "Please make sure to indicate:\n",
    "1. group number,\n",
    "2. group members with student names and numbers,\n",
    "3. the name of the database that you created. <br>\n",
    "\n",
    "Upload the notebook on moodle before **23:59 on June 22nd**\n",
    "\n",
    "## Evaluation   \n",
    "\n",
    "The second homework assignment counts 40% towards your final mark of the curricular unit. <br>\n",
    "The assignment will be scored from 0 to 20. <br>\n",
    "\n",
    "Each group submission will be evaluated on three components:\n",
    "1. correctness of results;\n",
    "2. simplicity and performance characteristics of the solution;\n",
    "3. justification of decisions.\n",
    "\n",
    "50% -  Database design  \n",
    "50% -  Query results including performance\n",
    "\n",
    "Please note that all code delivered in this assignment will go through plagiarism automated checks. <br>\n",
    "Groups with high similarity levels in their code will undergo investigation.\n"
   ]
  },
  {
   "cell_type": "code",
   "execution_count": 1,
   "metadata": {},
   "outputs": [],
   "source": [
    "from pymongo import MongoClient\n",
    "from bson.objectid import ObjectId\n",
    "from pprint import pprint"
   ]
  },
  {
   "cell_type": "code",
   "execution_count": 2,
   "metadata": {},
   "outputs": [],
   "source": [
    "host=\"localhost\"\n",
    "port=\"27017\"\n",
    "user=\"Group_GLMRT\"\n",
    "password=\"1024\"\n",
    "protocol=\"mongodb\"\n",
    "client = MongoClient(f\"{protocol}://{user}:{password}@{host}:{port}\")\n",
    "db = client.WideWorldImporters"
   ]
  },
  {
   "cell_type": "markdown",
   "metadata": {},
   "source": [
    "# The web team needs:\n",
    "## A- Which state province do we have the most suppliers in?"
   ]
  },
  {
   "cell_type": "code",
   "execution_count": 3,
   "metadata": {},
   "outputs": [
    {
     "data": {
      "text/plain": [
       "[{'_id': [['California']], 'number_of_suppliers': 3}]"
      ]
     },
     "execution_count": 3,
     "metadata": {},
     "output_type": "execute_result"
    }
   ],
   "source": [
    "query_1 = {\n",
    "        \"$lookup\":{\n",
    "           \"from\": \"stateprovinces\",\n",
    "           \"localField\": \"StateProvinceID\",\n",
    "           \"foreignField\": \"StateProvinceID\",\n",
    "           \"as\": \"StateProvince_list\"\n",
    "        }\n",
    "}\n",
    "\n",
    "query_2 = { \n",
    "        \"$merge\" : {\n",
    "            \"into\" : \"city_state_embed\",\n",
    "            \"whenMatched\": \"replace\"\n",
    "        } \n",
    "    }\n",
    "\n",
    "\n",
    "pipeline = [query_1, query_2]\n",
    "\n",
    "r = db.cities.aggregate(pipeline)\n",
    "\n",
    "query_1 = {\n",
    "        \"$lookup\":{\n",
    "           \"from\": \"city_state_embed\",\n",
    "           \"localField\": \"DeliveryCityID\",\n",
    "           \"foreignField\": \"CityID\",\n",
    "           \"as\": \"Cities_list\"\n",
    "        }\n",
    "    }\n",
    "\n",
    "query_2 = { \n",
    "        \"$merge\" : {\n",
    "            \"into\" : \"suppliers_cities_embed\",\n",
    "            \"whenMatched\": \"merge\"\n",
    "        } \n",
    "    }\n",
    "\n",
    "pipeline = [query_1, query_2]\n",
    "\n",
    "r = db.suppliers.aggregate(pipeline)\n",
    "\n",
    "query_1 = {'$project': {'_id' : False,        \n",
    "                'SupplierID' : '$SupplierID',\n",
    "                'City' : '$Cities_list.CityName',\n",
    "                'StateProvince' : '$Cities_list.StateProvince_list.StateProvinceName',}}\n",
    "\n",
    "query_2 = {\n",
    "    '$group':\n",
    "        {'_id' : '$StateProvince', # will be groupped by this field\n",
    "         'number_of_suppliers' : {'$sum' : 1}}} # type of accumulator\n",
    "\n",
    "query_3 = {\n",
    "    '$sort':\n",
    "        {'number_of_suppliers' : -1}} # -1 desc, 1 asc.\n",
    "\n",
    "query_4 = {'$limit': 1}\n",
    "\n",
    "pipeline = [query_1,query_2,query_3,query_4]\n",
    "    \n",
    "r = list(db.suppliers_cities_embed.aggregate(pipeline))\n",
    "\n",
    "r"
   ]
  },
  {
   "cell_type": "markdown",
   "metadata": {},
   "source": [
    "## B- How many people have three or more OtherLanguage?"
   ]
  },
  {
   "cell_type": "code",
   "execution_count": 4,
   "metadata": {},
   "outputs": [
    {
     "data": {
      "text/plain": [
       "[{'Number of people with 3 or more other languages': 4}]"
      ]
     },
     "execution_count": 4,
     "metadata": {},
     "output_type": "execute_result"
    }
   ],
   "source": [
    "query_1 = {\n",
    "    '$match' : {\n",
    "        'OtherLanguages': {'$ne': None}\n",
    "    }    \n",
    "}\n",
    "\n",
    "query_2 = { # size of other languages array\n",
    "    '$project' : {\n",
    "        '_id' : False,\n",
    "        'OtherLanguages' : 1,\n",
    "    }\n",
    "}\n",
    "\n",
    "query_3= {\n",
    "    '$match' : {\n",
    "        'OtherLanguages': {'$ne': '[]'}\n",
    "    }    \n",
    "}\n",
    "\n",
    "query_4 = {\n",
    "        '$project' : {\n",
    "        '_id' : False,\n",
    "        'OtherLanguages' : 1,\n",
    "        'OtherLanguages' : {'$trim' : {'input':'$OtherLanguages','chars':']['}}\n",
    "    }\n",
    "}\n",
    "\n",
    "query_5 = { # size of other languages array\n",
    "    '$project' : {\n",
    "        'OtherLanguages' : 1,\n",
    "        'OtherLanguages' : {'$split':['$OtherLanguages',',']}\n",
    "    }\n",
    "}\n",
    "\n",
    "query_6 = { # size of other languages array\n",
    "    '$project' : {\n",
    "        '_id' : False,\n",
    "        'OtherLanguages' : 1,\n",
    "        'number_languages' : {'$size' : '$OtherLanguages'}\n",
    "    }\n",
    "}\n",
    "\n",
    "query_7 = {\n",
    "    '$match' : {\n",
    "        'OtherLanguages': {'$exists': True},\n",
    "        'number_languages' : {'$gte' : 3}\n",
    "    }    \n",
    "}\n",
    "\n",
    "query_8 = { # More than 3\n",
    "    '$count' : 'Number of people with 3 or more other languages'\n",
    "}\n",
    "\n",
    "pipeline = [query_1,query_2,query_3,query_4,query_5,query_6,query_7,query_8]\n",
    "\n",
    "r = db.people.aggregate(pipeline)\n",
    "\n",
    "result = list(r)\n",
    "\n",
    "result"
   ]
  },
  {
   "cell_type": "markdown",
   "metadata": {},
   "source": [
    "## C- Top 10 most common OtherLanguage for people records."
   ]
  },
  {
   "cell_type": "code",
   "execution_count": 5,
   "metadata": {},
   "outputs": [
    {
     "data": {
      "text/plain": [
       "[{'_id': '\"Dutch\"', 'count': 3},\n",
       " {'_id': '\"Finnish\"', 'count': 3},\n",
       " {'_id': '\"Greek\"', 'count': 3},\n",
       " {'_id': '\"Slovak\"', 'count': 2},\n",
       " {'_id': '\"Polish\"', 'count': 2},\n",
       " {'_id': '\"Arabic\"', 'count': 2},\n",
       " {'_id': '\"Lithuanian\"', 'count': 2},\n",
       " {'_id': '\"Croatian\"', 'count': 2},\n",
       " {'_id': '\"Romanian\"', 'count': 2},\n",
       " {'_id': '\"Turkish\"', 'count': 1}]"
      ]
     },
     "execution_count": 5,
     "metadata": {},
     "output_type": "execute_result"
    }
   ],
   "source": [
    "query_1 = {\n",
    "    '$match' : {\n",
    "        'OtherLanguages': {'$ne': None}\n",
    "    }    \n",
    "}\n",
    "\n",
    "query_2 = { # size of other languages array\n",
    "    '$project' : {\n",
    "        '_id' : False,\n",
    "        'OtherLanguages' : 1,\n",
    "    }\n",
    "}\n",
    "\n",
    "query_3= {\n",
    "    '$match' : {\n",
    "        'OtherLanguages': {'$ne': '[]'}\n",
    "    }    \n",
    "}\n",
    "\n",
    "query_4 = {\n",
    "        '$project' : {\n",
    "        '_id' : False,\n",
    "        'OtherLanguages' : 1,\n",
    "        'OtherLanguages' : {'$trim' : {'input':'$OtherLanguages','chars':']['}}\n",
    "    }\n",
    "}\n",
    "\n",
    "query_5 = { # size of other languages array\n",
    "    '$project' : {\n",
    "        'OtherLanguages' : 1,\n",
    "        'OtherLanguages' : {'$split':['$OtherLanguages',',']}\n",
    "    }\n",
    "}\n",
    "\n",
    "query_6 = {\n",
    "    '$unwind' : '$OtherLanguages'\n",
    "    }\n",
    "\n",
    "query_7 = {\n",
    "    '$group': {\n",
    "        '_id': '$OtherLanguages', \n",
    "        'count' : {'$sum' : 1}            \n",
    "    }\n",
    "}\n",
    "\n",
    "query_8 = {\n",
    "    '$sort': {\n",
    "        'count': -1\n",
    "    }\n",
    "}\n",
    "\n",
    "\n",
    "query_9 = {\n",
    "    '$limit': 10\n",
    "}\n",
    "\n",
    "\n",
    "pipeline = [query_1,query_2,query_3,query_4,query_5,query_6,query_7,query_8,query_9]\n",
    "\n",
    "r = db.people.aggregate(pipeline)\n",
    "\n",
    "result = list(r)\n",
    "\n",
    "result"
   ]
  },
  {
   "cell_type": "markdown",
   "metadata": {},
   "source": [
    "## D- How many customer records are valid after November 2015?"
   ]
  },
  {
   "cell_type": "code",
   "execution_count": 6,
   "metadata": {},
   "outputs": [
    {
     "data": {
      "text/plain": [
       "663"
      ]
     },
     "execution_count": 6,
     "metadata": {},
     "output_type": "execute_result"
    }
   ],
   "source": [
    "import datetime\n",
    "len(list(db.customers.find({'ValidTo':{'$gt':datetime.datetime(2015,11,30,23,59,59)}}, {'ValidTo':1, '_id':0})))"
   ]
  },
  {
   "cell_type": "markdown",
   "metadata": {},
   "source": [
    "## E- What percentage of people records don't have the UserPreferences field?"
   ]
  },
  {
   "cell_type": "code",
   "execution_count": 7,
   "metadata": {},
   "outputs": [
    {
     "name": "stdout",
     "output_type": "stream",
     "text": [
      "16%\n"
     ]
    }
   ],
   "source": [
    "NoneUserPreferences=len(list(db.people.find( { 'UserPreferences' : { '$ne': None } } )))\n",
    "NoExists=len(list(db.people.find({\"UserPreferences\": {\"$exists\": False}})))\n",
    "TotalNoneUserPreferences=len(list(db.people.find()))\n",
    "Answer = (NoneUserPreferences+NoExists)/TotalNoneUserPreferences\n",
    "print (\"{0:.0%}\".format(Answer))"
   ]
  },
  {
   "cell_type": "markdown",
   "metadata": {},
   "source": [
    "# The warehouse group needs to know:  "
   ]
  },
  {
   "cell_type": "markdown",
   "metadata": {},
   "source": [
    "## A- What is the average difference in days between OrderDate and ExpectedDeliveryDate for orders sold by (`SalespersonPersonID`) person with the name `Jack Potter`?"
   ]
  },
  {
   "cell_type": "code",
   "execution_count": 8,
   "metadata": {
    "scrolled": true
   },
   "outputs": [
    {
     "data": {
      "text/plain": [
       "7387"
      ]
     },
     "execution_count": 8,
     "metadata": {},
     "output_type": "execute_result"
    }
   ],
   "source": [
    "query_1 = {\n",
    "    \"$lookup\":\n",
    "    {\n",
    "       'from': 'people',\n",
    "       'localField': 'SalespersonPersonID',\n",
    "       'foreignField': 'PersonID',\n",
    "       'as': 'PersonInfo'\n",
    "     }\n",
    "}\n",
    "\n",
    "query_2 ={\n",
    "    '$match': {\n",
    "        'PersonInfo.FullName' : {'$eq' : 'Jack Potter'}\n",
    "    }\n",
    "}\n",
    "\n",
    "pipeline = [query_1,query_2]\n",
    "\n",
    "\n",
    "r=db.orders.aggregate(pipeline)\n",
    "\n",
    "result = len(list(r))\n",
    "\n",
    "result"
   ]
  },
  {
   "cell_type": "code",
   "execution_count": 9,
   "metadata": {},
   "outputs": [
    {
     "data": {
      "text/plain": [
       "[{'Average Days between Expected Delivery Date and Order Date is': 16948.2}]"
      ]
     },
     "execution_count": 9,
     "metadata": {},
     "output_type": "execute_result"
    }
   ],
   "source": [
    "query_3 = {\n",
    "    '$project' : {\n",
    "        '_id' : False,\n",
    "        'SalespersonPersonID' : 1,\n",
    "        'PersonInfo.FullName' : 1,\n",
    "        'days_in_between' : { '$subtract': [ '$ExpectedDeliveryDate', '$OrderDate' ] },\n",
    "    }\n",
    "}\n",
    "\n",
    "\n",
    "query_4 = {\n",
    "    '$group': {\n",
    "        '_id': {'FullName' : '$PersonInfo.FullName'}, \n",
    "        'average_days' : {'$avg' : '$days_in_between'}            \n",
    "    }\n",
    "}\n",
    "\n",
    "query_5 = {\n",
    "    '$project' : {\n",
    "        '_id' : False,\n",
    "        'Average Days between Expected Delivery Date and Order Date is' : {'$round' : [{'$divide' : ['$average_days', 7387]}, 2]}\n",
    "    }\n",
    "}\n",
    "\n",
    "pipeline = [query_1,query_2,query_3,query_4,query_5]\n",
    "\n",
    "\n",
    "r=db.orders.aggregate(pipeline)\n",
    "\n",
    "result = list(r)\n",
    "\n",
    "result"
   ]
  },
  {
   "cell_type": "markdown",
   "metadata": {},
   "source": [
    "## B- Which items get ordered the most in bulk (largest average quantity ordered)?  "
   ]
  },
  {
   "cell_type": "code",
   "execution_count": 10,
   "metadata": {},
   "outputs": [],
   "source": [
    "query_1 = {\n",
    "        \"$lookup\":{\n",
    "           \"from\": \"stockitems\",\n",
    "           \"localField\": \"StockItemID\",\n",
    "           \"foreignField\": \"StockItemID\",\n",
    "           \"as\": \"StockItem_list\"\n",
    "        }\n",
    "}\n",
    "\n",
    "query_2 = { \n",
    "        \"$merge\" : {\n",
    "            \"into\" : \"orderline_stockitem_embed\",\n",
    "            \"whenMatched\": \"replace\"\n",
    "        } \n",
    "    }\n",
    "\n",
    "\n",
    "pipeline = [query_1, query_2]\n",
    "\n",
    "r = db.orderlines.aggregate(pipeline)\n",
    "\n"
   ]
  },
  {
   "cell_type": "code",
   "execution_count": 11,
   "metadata": {},
   "outputs": [
    {
     "data": {
      "text/plain": [
       "[{'_id': ['Black and orange fragile despatch tape 48mmx75m'],\n",
       "  'average_quantity': 199.35,\n",
       "  'count': 207324},\n",
       " {'_id': ['Black and orange fragile despatch tape 48mmx100m'],\n",
       "  'average_quantity': 198.23950870010236,\n",
       "  'count': 193680},\n",
       " {'_id': ['Clear packaging tape 48mmx75m'],\n",
       "  'average_quantity': 145.26190476190476,\n",
       "  'count': 158626}]"
      ]
     },
     "execution_count": 11,
     "metadata": {},
     "output_type": "execute_result"
    }
   ],
   "source": [
    "query_1 = {'$project': {'_id' : False,        \n",
    "                'Quantity' : '$Quantity',\n",
    "                'Product_Name' : '$StockItem_list.StockItemName'}}\n",
    "\n",
    "query_2 = {\n",
    "    '$group':\n",
    "        {'_id' : '$Product_Name', # will be groupped by this field\n",
    "         'average_quantity' : {'$avg' : '$Quantity'},\n",
    "         'count': { '$sum': '$Quantity' }}} # type of accumulator\n",
    "\n",
    "query_3 = {\n",
    "    '$sort':\n",
    "        {'average_quantity' : -1}} # -1 desc, 1 asc.\n",
    "\n",
    "query_4 = {'$limit': 3}\n",
    "\n",
    "pipeline = [query_1,query_2,query_3,query_4]\n",
    "    \n",
    "r = list(db.orderline_stockitem_embed.aggregate(pipeline))\n",
    "\n",
    "r"
   ]
  },
  {
   "cell_type": "markdown",
   "metadata": {},
   "source": [
    "## C- Which two items get ordered together the most?"
   ]
  },
  {
   "cell_type": "code",
   "execution_count": 12,
   "metadata": {},
   "outputs": [
    {
     "data": {
      "text/plain": [
       "[{'_id': 46572,\n",
       "  'Product_orders': [['\"The Gu\" red shirt XML tag t-shirt (Black) S'],\n",
       "   ['Shipping carton (Brown) 229x229x229mm'],\n",
       "   ['USB food flash drive - dessert 10 drive variety pack'],\n",
       "   ['Red and white urgent despatch tape 48mmx75m']],\n",
       "  'products_inorder': 4}]"
      ]
     },
     "execution_count": 12,
     "metadata": {},
     "output_type": "execute_result"
    }
   ],
   "source": [
    "query_1 = {'$project': {'_id' : False,        \n",
    "                'OrderID' : '$OrderID',\n",
    "                'Product_Name' : '$StockItem_list.StockItemName'}}\n",
    "\n",
    "query_2 = {\n",
    "    '$group':\n",
    "        {'_id' : '$OrderID', # will be groupped by this field\n",
    "         'Product_orders' : {'$addToSet' : '$Product_Name'}}}# type of accumulator\n",
    "\n",
    "query_3 = { # size of other languages array\n",
    "    '$project' : {\n",
    "        '_id' : 1,\n",
    "        'Product_orders' : 1,\n",
    "        'products_inorder' : {'$size' : '$Product_orders'}\n",
    "    }\n",
    "}\n",
    "\n",
    "query_4 = {\n",
    "    '$match' : {\n",
    "        'products_inorder' : {'$gte' : 1}\n",
    "    }    \n",
    "}         \n",
    "query_5 = {'$limit': 1}\n",
    "pipeline = [query_1,query_2,query_3,query_4,query_5]\n",
    "    \n",
    "r = list(db.orderline_stockitem_embed.aggregate(pipeline))\n",
    "\n",
    "r"
   ]
  },
  {
   "cell_type": "markdown",
   "metadata": {},
   "source": [
    "## D- For each customer category which 3 items have the ordered the most?"
   ]
  },
  {
   "cell_type": "code",
   "execution_count": 13,
   "metadata": {},
   "outputs": [],
   "source": [
    "query_1 = {\n",
    "        \"$lookup\":{\n",
    "           \"from\": \"customercategories\",\n",
    "           \"localField\": \"CustomerCategoryID\",\n",
    "           \"foreignField\": \"CustomerCategoryID\",\n",
    "           \"as\": \"CustomerCategory_list\"\n",
    "        }\n",
    "}\n",
    "\n",
    "query_2 = { \n",
    "        \"$merge\" : {\n",
    "            \"into\" : \"customers_CustomerCategory_embed\",\n",
    "            \"whenMatched\": \"replace\"\n",
    "        } \n",
    "    }\n",
    "\n",
    "\n",
    "pipeline = [query_1, query_2]\n",
    "\n",
    "r = db.customers.aggregate(pipeline)\n",
    "\n"
   ]
  },
  {
   "cell_type": "code",
   "execution_count": 14,
   "metadata": {},
   "outputs": [],
   "source": [
    "query_1 = {\n",
    "        \"$lookup\":{\n",
    "           \"from\": \"customers_CustomerCategory_embed\",\n",
    "           \"localField\": \"CustomerID\",\n",
    "           \"foreignField\": \"CustomerID\",\n",
    "           \"as\": \"Customer_list\"\n",
    "        }\n",
    "}\n",
    "\n",
    "query_2 = { \n",
    "        \"$merge\" : {\n",
    "            \"into\" :\"orders_customers_CustomerCategory_embed\",\n",
    "            \"whenMatched\": \"replace\"\n",
    "        } \n",
    "    }\n",
    "\n",
    "\n",
    "pipeline = [query_1, query_2]\n",
    "\n",
    "r = db.orders.aggregate(pipeline)"
   ]
  },
  {
   "cell_type": "markdown",
   "metadata": {},
   "source": [
    "## E- What is the current stock of each stockgroup?"
   ]
  },
  {
   "cell_type": "code",
   "execution_count": 43,
   "metadata": {},
   "outputs": [],
   "source": [
    "query_1 = {\n",
    "        \"$lookup\":{\n",
    "           \"from\": \"stockitemsstockgroups\",\n",
    "           \"localField\": \"StockItemID\",\n",
    "           \"foreignField\": \"StockItemID\",\n",
    "           \"as\": \"stockitemsstockgroups_list\"\n",
    "        }\n",
    "}\n",
    "\n",
    "query_2 = { \n",
    "        \"$merge\" : {\n",
    "            \"into\" : \"stockitemstransactions_stockitemsstockgroups_embed\",\n",
    "            \"whenMatched\": \"replace\"\n",
    "        } \n",
    "    }\n",
    "\n",
    "\n",
    "pipeline = [query_1, query_2]\n",
    "\n",
    "r = db.stockitemstransactions.aggregate(pipeline)\n",
    "\n"
   ]
  },
  {
   "cell_type": "code",
   "execution_count": 50,
   "metadata": {},
   "outputs": [],
   "source": [
    "query_1 = {\n",
    "        \"$lookup\":{\n",
    "           \"from\": \"stockgroups\",\n",
    "           \"localField\": \"stockitemsstockgroups_list.StockGroupID\",\n",
    "           \"foreignField\": \"StockGroupID\",\n",
    "           \"as\": \"StockGroupID_list\"\n",
    "        }\n",
    "}\n",
    "\n",
    "query_2 = { \n",
    "        \"$merge\" : {\n",
    "            \"into\" : \"stockitemstransactions_stockitemsstockgroups_stockgroups_embed\",\n",
    "            \"whenMatched\": \"replace\"\n",
    "        } \n",
    "    }\n",
    "\n",
    "\n",
    "pipeline = [query_1, query_2]\n",
    "\n",
    "r = db.stockitemstransactions_stockitemsstockgroups_embed.aggregate(pipeline)\n",
    "\n"
   ]
  },
  {
   "cell_type": "code",
   "execution_count": 66,
   "metadata": {},
   "outputs": [
    {
     "data": {
      "text/plain": [
       "[{'_id': ['Clothing', 'T-Shirts', 'Computing Novelties'],\n",
       "  'Quantity': Decimal128('89339225.000')},\n",
       " {'_id': ['Packaging Materials'], 'Quantity': Decimal128('42788674.000')},\n",
       " {'_id': ['Toys'], 'Quantity': Decimal128('-17138.000')},\n",
       " {'_id': ['Novelty Items', 'Computing Novelties'],\n",
       "  'Quantity': Decimal128('-56010.000')},\n",
       " {'_id': ['Novelty Items', 'Computing Novelties', 'USB Novelties'],\n",
       "  'Quantity': Decimal128('-79483.000')},\n",
       " {'_id': ['Clothing'], 'Quantity': Decimal128('-91321.000')},\n",
       " {'_id': ['Novelty Items', 'Toys'], 'Quantity': Decimal128('-102909.000')},\n",
       " {'_id': ['Novelty Items'], 'Quantity': Decimal128('-122280.000')},\n",
       " {'_id': ['Novelty Items', 'Mugs', 'Computing Novelties'],\n",
       "  'Quantity': Decimal128('-242577.000')},\n",
       " {'_id': ['Clothing', 'Furry Footwear'],\n",
       "  'Quantity': Decimal128('-394460.000')},\n",
       " {'_id': ['Novelty Items', 'Clothing'], 'Quantity': Decimal128('-554041.000')}]"
      ]
     },
     "execution_count": 66,
     "metadata": {},
     "output_type": "execute_result"
    }
   ],
   "source": [
    "query_1 = {'$project': {'_id' : False,        \n",
    "                'Quantity' : 1,\n",
    "                'StockGroupName' : '$StockGroupID_list.StockGroupName'}}\n",
    "\n",
    "query_2 = {\n",
    "    '$group':\n",
    "        {'_id' : '$StockGroupName', # will be groupped by this field\n",
    "         'Quantity' : {'$sum' : '$Quantity'}}}# type of accumulator\n",
    "\n",
    "query_3 = {\n",
    "    '$sort':\n",
    "        {'Quantity' : -1}} # -1 desc, 1 asc.\n",
    "\n",
    "\n",
    "pipeline = [query_1,query_2,query_3]\n",
    "    \n",
    "r = list(db.stockitemstransactions_stockitemsstockgroups_stockgroups_embed.aggregate(pipeline))\n",
    "\n",
    "r"
   ]
  },
  {
   "cell_type": "markdown",
   "metadata": {},
   "source": [
    "# The CFO needs to know:"
   ]
  },
  {
   "cell_type": "markdown",
   "metadata": {},
   "source": [
    "## A- What is the monthly total order count for each month?"
   ]
  },
  {
   "cell_type": "code",
   "execution_count": 15,
   "metadata": {},
   "outputs": [
    {
     "data": {
      "text/plain": [
       "[{'_id': {'month': 1, 'year': 2013}, 'count': 1674},\n",
       " {'_id': {'month': 2, 'year': 2013}, 'count': 1139},\n",
       " {'_id': {'month': 3, 'year': 2013}, 'count': 1683},\n",
       " {'_id': {'month': 4, 'year': 2013}, 'count': 1696},\n",
       " {'_id': {'month': 5, 'year': 2013}, 'count': 1808},\n",
       " {'_id': {'month': 6, 'year': 2013}, 'count': 1675},\n",
       " {'_id': {'month': 7, 'year': 2013}, 'count': 1886},\n",
       " {'_id': {'month': 8, 'year': 2013}, 'count': 1537},\n",
       " {'_id': {'month': 9, 'year': 2013}, 'count': 1617},\n",
       " {'_id': {'month': 10, 'year': 2013}, 'count': 1618},\n",
       " {'_id': {'month': 11, 'year': 2013}, 'count': 1552},\n",
       " {'_id': {'month': 12, 'year': 2013}, 'count': 1565},\n",
       " {'_id': {'month': 1, 'year': 2014}, 'count': 1791},\n",
       " {'_id': {'month': 2, 'year': 2014}, 'count': 1538},\n",
       " {'_id': {'month': 3, 'year': 2014}, 'count': 1586},\n",
       " {'_id': {'month': 4, 'year': 2014}, 'count': 1739},\n",
       " {'_id': {'month': 5, 'year': 2014}, 'count': 1908},\n",
       " {'_id': {'month': 6, 'year': 2014}, 'count': 1887},\n",
       " {'_id': {'month': 7, 'year': 2014}, 'count': 2008},\n",
       " {'_id': {'month': 8, 'year': 2014}, 'count': 1642},\n",
       " {'_id': {'month': 9, 'year': 2014}, 'count': 1637},\n",
       " {'_id': {'month': 10, 'year': 2014}, 'count': 1921},\n",
       " {'_id': {'month': 11, 'year': 2014}, 'count': 1628},\n",
       " {'_id': {'month': 12, 'year': 2014}, 'count': 1914},\n",
       " {'_id': {'month': 1, 'year': 2015}, 'count': 1830},\n",
       " {'_id': {'month': 2, 'year': 2015}, 'count': 1732},\n",
       " {'_id': {'month': 3, 'year': 2015}, 'count': 1891},\n",
       " {'_id': {'month': 4, 'year': 2015}, 'count': 2111},\n",
       " {'_id': {'month': 5, 'year': 2015}, 'count': 1959},\n",
       " {'_id': {'month': 6, 'year': 2015}, 'count': 1989},\n",
       " {'_id': {'month': 7, 'year': 2015}, 'count': 2273},\n",
       " {'_id': {'month': 8, 'year': 2015}, 'count': 1729},\n",
       " {'_id': {'month': 9, 'year': 2015}, 'count': 2065},\n",
       " {'_id': {'month': 10, 'year': 2015}, 'count': 1965},\n",
       " {'_id': {'month': 11, 'year': 2015}, 'count': 1834},\n",
       " {'_id': {'month': 12, 'year': 2015}, 'count': 1951},\n",
       " {'_id': {'month': 1, 'year': 2016}, 'count': 1944},\n",
       " {'_id': {'month': 2, 'year': 2016}, 'count': 1706},\n",
       " {'_id': {'month': 3, 'year': 2016}, 'count': 1969},\n",
       " {'_id': {'month': 4, 'year': 2016}, 'count': 1951},\n",
       " {'_id': {'month': 5, 'year': 2016}, 'count': 2047}]"
      ]
     },
     "execution_count": 15,
     "metadata": {},
     "output_type": "execute_result"
    }
   ],
   "source": [
    "query_1 =  {'$project' : { \n",
    "          'month' : { '$month' : \"$OrderDate\"}, \n",
    "          'year' : { '$year' :  \"$OrderDate\"},\n",
    "          'count' : { '$sum': 1 }\n",
    "      }}\n",
    "query_2 = {\n",
    "    \n",
    "    '$group': {\n",
    "            '_id' : {'month' : \"$month\", 'year' :'$year' },\n",
    "            'count': { '$sum': 1 } }}\n",
    "\n",
    "query_3 = {'$sort': {'_id.year':1,'_id.month':1}}\n",
    "\n",
    "pipeline = [query_1,query_2, query_3 ]\n",
    "\n",
    "\n",
    "r = db.orders.aggregate(pipeline)\n",
    "\n",
    "result = list(r)\n",
    "\n",
    "result"
   ]
  },
  {
   "cell_type": "markdown",
   "metadata": {},
   "source": [
    "## B- How many orders are there from the customer Tailspin Toys (Head Office)?"
   ]
  },
  {
   "cell_type": "code",
   "execution_count": 16,
   "metadata": {},
   "outputs": [
    {
     "data": {
      "text/plain": [
       "[{'Name': 'Tailspin Toys (Head Office)', 'No_Orders': 129}]"
      ]
     },
     "execution_count": 16,
     "metadata": {},
     "output_type": "execute_result"
    }
   ],
   "source": [
    "query_1 = {\n",
    "    '$match': {'CustomerName' : \"Tailspin Toys (Head Office)\"}\n",
    "}\n",
    "\n",
    "query_2 = {\n",
    "    \"$lookup\":\n",
    "    {\n",
    "       \"from\": \"orders\",\n",
    "       \"localField\": \"CustomerID\",\n",
    "       \"foreignField\": \"CustomerID\",\n",
    "       \"as\": \"order\"\n",
    "     }\n",
    "}\n",
    "\n",
    "query_3 = {\n",
    "    \"$project\":{\n",
    "        \"_id\": 0,\n",
    "        'Name': '$CustomerName',\n",
    "        \"No_Orders\": {'$size':\"$order\"}\n",
    "    }\n",
    "}\n",
    "\n",
    "\n",
    "pipeline = [query_1, query_2, query_3]\n",
    "\n",
    "r = db.customers.aggregate(pipeline)\n",
    "\n",
    "result = list(r)\n",
    "\n",
    "result"
   ]
  },
  {
   "cell_type": "markdown",
   "metadata": {},
   "source": [
    "## C- What are the average monthly sales prices of all goods sold?"
   ]
  },
  {
   "cell_type": "code",
   "execution_count": null,
   "metadata": {},
   "outputs": [],
   "source": []
  },
  {
   "cell_type": "markdown",
   "metadata": {},
   "source": [
    "## D- In each state province what is the average customer credit limit?"
   ]
  },
  {
   "cell_type": "code",
   "execution_count": 20,
   "metadata": {},
   "outputs": [],
   "source": [
    "query_1 = {\n",
    "        \"$lookup\":{\n",
    "           \"from\": \"city_state_embed\",\n",
    "           \"localField\": \"DeliveryCityID\",\n",
    "           \"foreignField\": \"CityID\",\n",
    "           \"as\": \"city_list\"\n",
    "        }\n",
    "}\n",
    "\n",
    "query_2 = { \n",
    "        \"$merge\" : {\n",
    "            \"into\" : \"customers_city_state_embed\",\n",
    "            \"whenMatched\": \"replace\"\n",
    "        } \n",
    "    }\n",
    "\n",
    "\n",
    "pipeline = [query_1, query_2]\n",
    "\n",
    "r = db.customers.aggregate(pipeline)"
   ]
  },
  {
   "cell_type": "code",
   "execution_count": null,
   "metadata": {},
   "outputs": [],
   "source": []
  },
  {
   "cell_type": "markdown",
   "metadata": {},
   "source": [
    "## E- What are the yearly expenditures with each supplier (per supplier name)?"
   ]
  },
  {
   "cell_type": "code",
   "execution_count": null,
   "metadata": {},
   "outputs": [],
   "source": []
  },
  {
   "cell_type": "code",
   "execution_count": null,
   "metadata": {},
   "outputs": [],
   "source": []
  },
  {
   "cell_type": "code",
   "execution_count": null,
   "metadata": {},
   "outputs": [],
   "source": []
  },
  {
   "cell_type": "markdown",
   "metadata": {},
   "source": [
    "# Partnerships needs to know:"
   ]
  },
  {
   "cell_type": "markdown",
   "metadata": {},
   "source": [
    "## A- What is the most common payment type?"
   ]
  },
  {
   "cell_type": "markdown",
   "metadata": {},
   "source": [
    "## B- What percentage of people have their Title as Team Member?"
   ]
  },
  {
   "cell_type": "markdown",
   "metadata": {},
   "source": [
    "## C- Which supplier of the category Novelty Goods Supplier has the most transactions?"
   ]
  },
  {
   "cell_type": "markdown",
   "metadata": {},
   "source": [
    "## D- What is the highest CommissionRate that a person has?"
   ]
  },
  {
   "cell_type": "markdown",
   "metadata": {},
   "source": [
    "# The marketing team needs to know:"
   ]
  },
  {
   "cell_type": "markdown",
   "metadata": {},
   "source": [
    "## A- What is the name of the sales person with the largest sum of invoice values in 2013 (person whose customers paid the most money)?"
   ]
  },
  {
   "cell_type": "markdown",
   "metadata": {},
   "source": [
    "## B- Who are the most common PickedByPersonID person names for orders done by customer Adriana Pena?"
   ]
  },
  {
   "cell_type": "markdown",
   "metadata": {},
   "source": [
    "## C- How many people have in their name the string Sara?"
   ]
  },
  {
   "cell_type": "markdown",
   "metadata": {},
   "source": [
    "## D- What are the top 10 most Common Names (Primary or Surnames) of people?"
   ]
  },
  {
   "cell_type": "code",
   "execution_count": null,
   "metadata": {},
   "outputs": [],
   "source": []
  },
  {
   "cell_type": "code",
   "execution_count": null,
   "metadata": {},
   "outputs": [],
   "source": []
  },
  {
   "cell_type": "code",
   "execution_count": null,
   "metadata": {},
   "outputs": [],
   "source": []
  },
  {
   "cell_type": "code",
   "execution_count": null,
   "metadata": {},
   "outputs": [],
   "source": []
  }
 ],
 "metadata": {
  "hide_input": false,
  "kernelspec": {
   "display_name": "Python 3 (ipykernel)",
   "language": "python",
   "name": "python3"
  },
  "language_info": {
   "codemirror_mode": {
    "name": "ipython",
    "version": 3
   },
   "file_extension": ".py",
   "mimetype": "text/x-python",
   "name": "python",
   "nbconvert_exporter": "python",
   "pygments_lexer": "ipython3",
   "version": "3.9.7"
  },
  "toc": {
   "base_numbering": 1,
   "nav_menu": {},
   "number_sections": true,
   "sideBar": true,
   "skip_h1_title": false,
   "title_cell": "Table of Contents",
   "title_sidebar": "Contents",
   "toc_cell": false,
   "toc_position": {},
   "toc_section_display": true,
   "toc_window_display": false
  },
  "varInspector": {
   "cols": {
    "lenName": 16,
    "lenType": 16,
    "lenVar": 40
   },
   "kernels_config": {
    "python": {
     "delete_cmd_postfix": "",
     "delete_cmd_prefix": "del ",
     "library": "var_list.py",
     "varRefreshCmd": "print(var_dic_list())"
    },
    "r": {
     "delete_cmd_postfix": ") ",
     "delete_cmd_prefix": "rm(",
     "library": "var_list.r",
     "varRefreshCmd": "cat(var_dic_list()) "
    }
   },
   "types_to_exclude": [
    "module",
    "function",
    "builtin_function_or_method",
    "instance",
    "_Feature"
   ],
   "window_display": false
  }
 },
 "nbformat": 4,
 "nbformat_minor": 4
}
