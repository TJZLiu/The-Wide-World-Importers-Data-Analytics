{
 "cells": [
  {
   "cell_type": "markdown",
   "metadata": {},
   "source": [
    "<div class=\"alert alert-block alert-info\">\n",
    "<center> <h1> Big Data Modeling and Management 2022 </h1> </center> <br>\n",
    "<center> Assignment 2 - DW Modeling </center>"
   ]
  },
  {
   "cell_type": "markdown",
   "metadata": {},
   "source": [
    "<hr>\n",
    "<a class=\"anchor\" id=\"group\">\n",
    "    \n",
    "### Group\n",
    "    \n",
    "</a>\n",
    "\n",
    "1. Gabriel Felipe Martins de Souza   \t|   m20210598 <br>\n",
    "\n",
    "2. Luiz Humberto Polaro Vizeu\t\t    |   m20210554 <br>\n",
    "\n",
    "3. Mohamed Shamsudeen                    |   m20210707 <br>\n",
    "\n",
    "4. Rogerio Domingos Paulo\t        \t|   m20210597 <br>\n",
    "\n",
    "5. Tongjiuzhou Liu                       |   m20211012 <br>\n"
   ]
  },
  {
   "cell_type": "markdown",
   "metadata": {},
   "source": [
    "## 🚚 BDMM Second Homework Assignment 🚚 \n",
    "\n",
    "_The Wide World Importers (WWI) is a wholesales novelty goods importer and distributor operating from the San Francisco bay area. In this assignment we will be working with their database._ \n",
    "You can get more information and details about the WWI database in the following link: https://docs.microsoft.com/en-us/sql/samples/wide-world-importers-what-is?view=sql-server-ver15\n",
    "\n",
    "The focus of the second assignment is modelling. We will use the World Wide Importers database and convert it to a document-based database. To that end, we will be leveraging concepts like data denormalization, indices, and mongodb design patterns. \n",
    "\n",
    "More information on the extended datamodel to be found here: </br>  \n",
    "https://docs.microsoft.com/en-us/sql/samples/wide-world-importers-oltp-database-catalog?view=sql-server-ver15"
   ]
  },
  {
   "cell_type": "markdown",
   "metadata": {},
   "source": [
    "## Problem Description\n",
    "\n",
    "Your team has just arrived at WWI (a leading company in logistics). Welcome!   <br>\n",
    "Even though business is thriving, the IT department is going through a bad time.   <br>\n",
    "Digitalization was never a priority for the company and now the company operational and analytical requirements are starting to grow beyond the capabilities of their existing data architecture.   <br>\n",
    "\n",
    "WWI data are spread accross different systems, but we've already managed to pull them all into a mongo dump file. This data file is an exact dump of the SQL data so includes all the same structure, the SQL tables become collections and the rows become documents. This means all the original SQL keys are included in the data.<br>\n",
    "Currently, the costs to develop the necessary queries to collect data to answer questions asked by the different departments are too high. <br>\n",
    "\n",
    "Management concluded it is the right time to revise and revamp the data architecture, in order to speed up operations. \n",
    "\n",
    "In that context, your team was tasked with merging all the company data into a single and coherent Mongo database. <br>\n",
    "It is expected that, with your solution, WWI will have a better understanding of their business and that the different departments will be able to obtain efficiently the answers they need.\n",
    "\n",
    "The WWI team shared with you an ERD of their current datamodel:<br>\n",
    "![datamodel](./WWI.png)"
   ]
  },
  {
   "cell_type": "markdown",
   "metadata": {},
   "source": [
    "**Note** You can open the file WWI.png that is in the same directory as this notebook to see the above image in more detail and zoom in as you need.\n",
    "\n",
    "Addtionally, the WWI team asked you the deliver the following outputs in **4 weeks**:\n",
    "- Understand and model the database in MongoDB.\n",
    "- Setup the database so that it is performs well for the queries they have provided. You should include reasoning in comments for the decisions you make on modelling the database.\n",
    "- Answer the questions (queries) on the data provided.  \n",
    "- Submit the results by following the instructions.  \n",
    "\n",
    "With these deliveries, you will have created a prototype and allows the management to decide whether MongoDB is a good solution that meets their requirements."
   ]
  },
  {
   "cell_type": "markdown",
   "metadata": {},
   "source": [
    "### Design Requirements\n",
    "\n",
    "Note that WWI has the following query requirements for the database.\n",
    "\n",
    "1. The web team needs to know:  \n",
    "    1. Which state province do we have the most suppliers in?  \n",
    "    2. How many people have three or more `OtherLanguage`? \n",
    "    3. Top 10 most common `OtherLanguage` for people records. \n",
    "    4. How many customer records are valid after `November 2015`? \n",
    "    5. What percentage of people records don't have the UserPreferences field? \n",
    "\n",
    "2. The warehouse group needs to know:  \n",
    "    1. What is the average difference in days between OrderDate and ExpectedDeliveryDate for orders sold by (`SalespersonPersonID`) person with the name `Jack Potter`?\n",
    "    2. Which items get ordered the most in bulk (largest average quantity ordered)?  \n",
    "    3. Which two items get ordered together the most?\n",
    "    4. For each customer category which 3 items have the ordered the most?\n",
    "    5. What is the current stock of each stockgroup?\n",
    "\n",
    "3. The CFO needs to know:  \n",
    "    1. What is the monthly total order count for each month?  \n",
    "    2. How many orders are there from the customer `Tailspin Toys (Head Office)`?\n",
    "    3. What are the average monthly sales prices of all goods sold? \n",
    "    4. In each state province what is the average customer credit limit?   \n",
    "    5. What are the yearly expenditures with each supplier (per supplier name)?  \n",
    "\n",
    "4. Partnerships needs to know:  \n",
    "    1. What is the most common payment type?  \n",
    "    2. What percentage of people have their `Title` as `Team Member`?\n",
    "    3. Which supplier of the category `Novelty Goods Supplier` has the most transactions?  \n",
    "    4. What is the highest `CommissionRate` that a person has?\n",
    "\n",
    "5. The marketing team needs to know:  \n",
    "    1. What is the name of the sales person with the largest sum of invoice values in 2013 (person whose customers paid the most money)?\n",
    "    2. Who are the most common `PickedByPersonID` person names for orders done by customer `Adriana Pena`?\n",
    "    3. How many people have in their name the string `Sara`?\n",
    "    5. What are the top 10 most Common Names (Primary or Surnames) of people?\n",
    "\n",
    "Transform the mongo dump file provided with this notebook and model a database following mongodb's best practices. You should adjust the data model to best fit the use cases provided above. Think about collections, embedding, linking, indexing, and the patterns learned in class. Provide justifications for each decision you make. What, if any, are the trade-off's or disadvantages of your approach.\n",
    "\n",
    "Use MongoDB queries to answer the questions on your transformed database.\n",
    "\n",
    "### Deliverables\n",
    "\n",
    "1. Notebook with all DB creation operations and CRUD operations to create the data model. **Important** you should include in comments justification for your decisions on modelling the data.;\n",
    "2. Second notebook with all required queries and answers for the questions, **Important** please indicate with comments the steps in the data model you took to optimise each query;\n"
   ]
  },
  {
   "cell_type": "markdown",
   "metadata": {},
   "source": [
    "# Additional Information\n",
    "\n",
    "## Groups  \n",
    "\n",
    "Students should form groups of at least 4 and at most 5. <br>\n",
    "\n",
    "## Submission  Deadline\n",
    "\n",
    "The submission includes two notebooks with outputs (cells must be run). \n",
    "Please make sure to indicate:\n",
    "1. group number,\n",
    "2. group members with student names and numbers,\n",
    "3. the name of the database that you created. <br>\n",
    "\n",
    "Upload the notebook on moodle before **23:59 on June 22nd**\n",
    "\n",
    "## Evaluation   \n",
    "\n",
    "The second homework assignment counts 40% towards your final mark of the curricular unit. <br>\n",
    "The assignment will be scored from 0 to 20. <br>\n",
    "\n",
    "Each group submission will be evaluated on three components:\n",
    "1. correctness of results;\n",
    "2. simplicity and performance characteristics of the solution;\n",
    "3. justification of decisions.\n",
    "\n",
    "50% -  Database design  \n",
    "50% -  Query results including performance\n",
    "\n",
    "Please note that all code delivered in this assignment will go through plagiarism automated checks. <br>\n",
    "Groups with high similarity levels in their code will undergo investigation.\n"
   ]
  },
  {
   "cell_type": "code",
   "execution_count": 1,
   "metadata": {},
   "outputs": [],
   "source": [
    "from pymongo import MongoClient\n",
    "from bson.objectid import ObjectId\n",
    "from pprint import pprint"
   ]
  },
  {
   "cell_type": "code",
   "execution_count": 2,
   "metadata": {},
   "outputs": [],
   "source": [
    "host=\"localhost\"\n",
    "port=\"27017\"\n",
    "user=\"Group_GLMRT\"\n",
    "password=\"1024\"\n",
    "protocol=\"mongodb\"\n",
    "client = MongoClient(f\"{protocol}://{user}:{password}@{host}:{port}\")\n",
    "db = client.WideWorldImporters"
   ]
  },
  {
   "cell_type": "markdown",
   "metadata": {},
   "source": [
    "# The web team needs to know:"
   ]
  },
  {
   "cell_type": "markdown",
   "metadata": {},
   "source": [
    "### city_state_embed  &  suppliers_cities_embed"
   ]
  },
  {
   "cell_type": "code",
   "execution_count": 3,
   "metadata": {},
   "outputs": [],
   "source": [
    "query_1 = {\n",
    "        \"$lookup\":{\n",
    "           \"from\": \"stateprovinces\",\n",
    "           \"localField\": \"StateProvinceID\",\n",
    "           \"foreignField\": \"StateProvinceID\",\n",
    "           \"as\": \"StateProvince_list\"\n",
    "        }\n",
    "}\n",
    "\n",
    "query_2 = { \n",
    "        \"$merge\" : {\n",
    "            \"into\" : \"city_state_embed\",\n",
    "            \"whenMatched\": \"replace\"\n",
    "        } \n",
    "    }\n",
    "\n",
    "\n",
    "pipeline = [query_1, query_2]\n",
    "\n",
    "r = db.cities.aggregate(pipeline)\n",
    "\n",
    "query_1 = {\n",
    "        \"$lookup\":{\n",
    "           \"from\": \"city_state_embed\",\n",
    "           \"localField\": \"DeliveryCityID\",\n",
    "           \"foreignField\": \"CityID\",\n",
    "           \"as\": \"Cities_list\"\n",
    "        }\n",
    "    }\n",
    "\n",
    "query_2 = { \n",
    "        \"$merge\" : {\n",
    "            \"into\" : \"suppliers_cities_embed\",\n",
    "            \"whenMatched\": \"merge\"\n",
    "        } \n",
    "    }\n",
    "\n",
    "pipeline = [query_1, query_2]\n",
    "\n",
    "r = db.suppliers.aggregate(pipeline)\n"
   ]
  },
  {
   "cell_type": "markdown",
   "metadata": {},
   "source": [
    "# The warehouse group needs to know:"
   ]
  },
  {
   "cell_type": "markdown",
   "metadata": {},
   "source": [
    "### orderline_stockitem_embed"
   ]
  },
  {
   "cell_type": "code",
   "execution_count": 8,
   "metadata": {},
   "outputs": [],
   "source": [
    "query_1 = {\n",
    "        \"$lookup\":{\n",
    "           \"from\": \"stockitems\",\n",
    "           \"localField\": \"StockItemID\",\n",
    "           \"foreignField\": \"StockItemID\",\n",
    "           \"as\": \"StockItem_list\"\n",
    "        }\n",
    "}\n",
    "\n",
    "query_2 = { \n",
    "        \"$merge\" : {\n",
    "            \"into\" : \"orderline_stockitem_embed\",\n",
    "            \"whenMatched\": \"replace\"\n",
    "        } \n",
    "    }\n",
    "\n",
    "\n",
    "pipeline = [query_1, query_2]\n",
    "\n",
    "r = db.orderlines.aggregate(pipeline)\n",
    "\n"
   ]
  },
  {
   "cell_type": "markdown",
   "metadata": {},
   "source": [
    "### customers_CustomerCategory_embed"
   ]
  },
  {
   "cell_type": "code",
   "execution_count": 10,
   "metadata": {},
   "outputs": [],
   "source": [
    "query_1 = {\n",
    "        \"$lookup\":{\n",
    "           \"from\": \"customercategories\",\n",
    "           \"localField\": \"CustomerCategoryID\",\n",
    "           \"foreignField\": \"CustomerCategoryID\",\n",
    "           \"as\": \"CustomerCategory_list\"\n",
    "        }\n",
    "}\n",
    "\n",
    "query_2 = { \n",
    "        \"$merge\" : {\n",
    "            \"into\" : \"customers_CustomerCategory_embed\",\n",
    "            \"whenMatched\": \"replace\"\n",
    "        } \n",
    "    }\n",
    "\n",
    "\n",
    "pipeline = [query_1, query_2]\n",
    "\n",
    "r = db.customers.aggregate(pipeline)\n",
    "\n"
   ]
  },
  {
   "cell_type": "markdown",
   "metadata": {},
   "source": [
    "### orders_customers_CustomerCategory_embed"
   ]
  },
  {
   "cell_type": "code",
   "execution_count": 12,
   "metadata": {},
   "outputs": [],
   "source": [
    "query_1 = {\n",
    "        \"$lookup\":{\n",
    "           \"from\": \"customers_CustomerCategory_embed\",\n",
    "           \"localField\": \"CustomerID\",\n",
    "           \"foreignField\": \"CustomerID\",\n",
    "           \"as\": \"Customer_list\"\n",
    "        }\n",
    "}\n",
    "\n",
    "query_2 = { \n",
    "        \"$merge\" : {\n",
    "            \"into\" :\"orders_customers_CustomerCategory_embed\",\n",
    "            \"whenMatched\": \"replace\"\n",
    "        } \n",
    "    }\n",
    "\n",
    "\n",
    "pipeline = [query_1, query_2]\n",
    "\n",
    "r = db.orders.aggregate(pipeline)"
   ]
  },
  {
   "cell_type": "markdown",
   "metadata": {},
   "source": [
    "### stockitemstransactions_stockitemsstockgroups_embed"
   ]
  },
  {
   "cell_type": "code",
   "execution_count": 13,
   "metadata": {},
   "outputs": [],
   "source": [
    "query_1 = {\n",
    "        \"$lookup\":{\n",
    "           \"from\": \"stockitemsstockgroups\",\n",
    "           \"localField\": \"StockItemID\",\n",
    "           \"foreignField\": \"StockItemID\",\n",
    "           \"as\": \"stockitemsstockgroups_list\"\n",
    "        }\n",
    "}\n",
    "\n",
    "query_2 = { \n",
    "        \"$merge\" : {\n",
    "            \"into\" : \"stockitemstransactions_stockitemsstockgroups_embed\",\n",
    "            \"whenMatched\": \"replace\"\n",
    "        } \n",
    "    }\n",
    "\n",
    "\n",
    "pipeline = [query_1, query_2]\n",
    "\n",
    "r = db.stockitemstransactions.aggregate(pipeline)\n",
    "\n"
   ]
  },
  {
   "cell_type": "markdown",
   "metadata": {},
   "source": [
    "### stockitemstransactions_stockitemsstockgroups_stockgroups_embed"
   ]
  },
  {
   "cell_type": "code",
   "execution_count": 50,
   "metadata": {},
   "outputs": [],
   "source": [
    "query_1 = {\n",
    "        \"$lookup\":{\n",
    "           \"from\": \"stockgroups\",\n",
    "           \"localField\": \"stockitemsstockgroups_list.StockGroupID\",\n",
    "           \"foreignField\": \"StockGroupID\",\n",
    "           \"as\": \"StockGroupID_list\"\n",
    "        }\n",
    "}\n",
    "\n",
    "query_2 = { \n",
    "        \"$merge\" : {\n",
    "            \"into\" : \"stockitemstransactions_stockitemsstockgroups_stockgroups_embed\",\n",
    "            \"whenMatched\": \"replace\"\n",
    "        } \n",
    "    }\n",
    "\n",
    "\n",
    "pipeline = [query_1, query_2]\n",
    "\n",
    "r = db.stockitemstransactions_stockitemsstockgroups_embed.aggregate(pipeline)\n",
    "\n"
   ]
  },
  {
   "cell_type": "markdown",
   "metadata": {},
   "source": [
    "# The CFO needs to know:"
   ]
  },
  {
   "cell_type": "markdown",
   "metadata": {},
   "source": [
    "### order_orderline_embed"
   ]
  },
  {
   "cell_type": "code",
   "execution_count": null,
   "metadata": {},
   "outputs": [],
   "source": [
    "query_1 = {\n",
    "         \"$lookup\":{\n",
    "            \"from\": \"orders\",\n",
    "            \"localField\": \"OrderID\",\n",
    "            \"foreignField\": \"OrderID\",\n",
    "            \"as\": \"orders_list\"\n",
    "             }\n",
    "}\n",
    "\n",
    "query_2 = { \n",
    "         \"$merge\" : {\n",
    "             \"into\" : \"order_orderline_embed\",\n",
    "             \"whenMatched\": \"replace\"\n",
    "         } \n",
    "}\n",
    "\n",
    "\n",
    "pipeline = [query_1, query_2]\n",
    "\n",
    "r = db.orderlines.aggregate(pipeline)"
   ]
  },
  {
   "cell_type": "markdown",
   "metadata": {},
   "source": [
    "### customers_city_state_embed"
   ]
  },
  {
   "cell_type": "code",
   "execution_count": 14,
   "metadata": {},
   "outputs": [],
   "source": [
    "query_1 = {\n",
    "        \"$lookup\":{\n",
    "           \"from\": \"city_state_embed\",\n",
    "           \"localField\": \"DeliveryCityID\",\n",
    "           \"foreignField\": \"CityID\",\n",
    "           \"as\": \"city_list\"\n",
    "        }\n",
    "}\n",
    "\n",
    "query_2 = { \n",
    "        \"$merge\" : {\n",
    "            \"into\" : \"customers_city_state_embed\",\n",
    "            \"whenMatched\": \"replace\"\n",
    "        } \n",
    "    }\n",
    "\n",
    "\n",
    "pipeline = [query_1, query_2]\n",
    "\n",
    "r = db.customers.aggregate(pipeline)"
   ]
  },
  {
   "cell_type": "markdown",
   "metadata": {},
   "source": [
    "# Partnerships needs to know:"
   ]
  },
  {
   "cell_type": "markdown",
   "metadata": {},
   "source": [
    "### suppliertransactions_paymentmethods_embed"
   ]
  },
  {
   "cell_type": "code",
   "execution_count": null,
   "metadata": {},
   "outputs": [],
   "source": [
    "collection = db.Purchasing_Suppliers\n",
    "\n",
    "query_1 = {\n",
    "   '$lookup':\n",
    "     {\n",
    "       'from': 'paymentmethods',\n",
    "       'localField': 'PaymentMethodID',\n",
    "       'foreignField': 'PaymentMethodID',\n",
    "       'as': \"paymentmethods_list\"\n",
    "     }    \n",
    "}\n",
    "\n",
    "query_2 = { \n",
    "        \"$merge\" : {\n",
    "            \"into\" : \"suppliertransactions_paymentmethods_embed\",\n",
    "            \"whenMatched\": \"replace\"\n",
    "        } \n",
    "    }\n",
    "\n",
    "\n",
    "pipeline = [query_1, query_2]\n",
    "\n",
    "r = db.suppliertransactions.aggregate(pipeline)"
   ]
  },
  {
   "cell_type": "markdown",
   "metadata": {},
   "source": [
    "### suppliers_suppliercategories_embed"
   ]
  },
  {
   "cell_type": "code",
   "execution_count": null,
   "metadata": {},
   "outputs": [],
   "source": [
    "query_1 = {\n",
    "   '$lookup':\n",
    "     {\n",
    "       'from': 'suppliercategories',\n",
    "       'localField': 'SupplierCategoryID',\n",
    "       'foreignField': 'SupplierCategoryID',\n",
    "       'as': \"suppliercategories_list\"\n",
    "     }    \n",
    "}\n",
    "\n",
    "query_2 = { \n",
    "        \"$merge\" : {\n",
    "            \"into\" : \"suppliers_suppliercategories_embed\",\n",
    "            \"whenMatched\": \"replace\"\n",
    "        } \n",
    "    }\n",
    "\n",
    "\n",
    "pipeline = [query_1, query_2]\n",
    "\n",
    "r = db.suppliers.aggregate(pipeline)"
   ]
  },
  {
   "cell_type": "markdown",
   "metadata": {},
   "source": [
    "### suppliertransactions_suppliers_suppliercategories_embed"
   ]
  },
  {
   "cell_type": "code",
   "execution_count": null,
   "metadata": {},
   "outputs": [],
   "source": [
    "query_1 = {\n",
    "   '$lookup':\n",
    "     {\n",
    "       'from': 'suppliers_suppliercategories_embed',\n",
    "       'localField': 'SupplierID',\n",
    "       'foreignField': 'SupplierID',\n",
    "       'as': \"suppliers_list\"\n",
    "     }    \n",
    "}\n",
    "\n",
    "query_2 = { \n",
    "        \"$merge\" : {\n",
    "            \"into\" : \"suppliertransactions_suppliers_suppliercategories_embed\",\n",
    "            \"whenMatched\": \"replace\"\n",
    "        } \n",
    "    }\n",
    "\n",
    "\n",
    "pipeline = [query_1, query_2]\n",
    "\n",
    "r = db.suppliertransactions.aggregate(pipeline)"
   ]
  },
  {
   "cell_type": "code",
   "execution_count": null,
   "metadata": {},
   "outputs": [],
   "source": []
  },
  {
   "cell_type": "markdown",
   "metadata": {},
   "source": [
    "# The marketing team needs to know:"
   ]
  },
  {
   "cell_type": "markdown",
   "metadata": {},
   "source": [
    "### invoices_people_embed"
   ]
  },
  {
   "cell_type": "code",
   "execution_count": null,
   "metadata": {},
   "outputs": [],
   "source": [
    "query_1 = {\n",
    "   '$lookup':\n",
    "     {\n",
    "       'from': 'people',\n",
    "       'localField': 'SalespersonPersonID',\n",
    "       'foreignField': 'PersonID',\n",
    "       'as': \"people_list\"\n",
    "     }    \n",
    "}\n",
    "\n",
    "query_2 = { \n",
    "        \"$merge\" : {\n",
    "            \"into\" : \"invoices_people_embed\",\n",
    "            \"whenMatched\": \"replace\"\n",
    "        } \n",
    "    }\n",
    "\n",
    "\n",
    "pipeline = [query_1, query_2]\n",
    "\n",
    "r = db.invoices.aggregate(pipeline)"
   ]
  },
  {
   "cell_type": "markdown",
   "metadata": {},
   "source": [
    "### invoicelines_invoices_people_embed"
   ]
  },
  {
   "cell_type": "code",
   "execution_count": null,
   "metadata": {},
   "outputs": [],
   "source": [
    "query_1 = {\n",
    "   '$lookup':\n",
    "     {\n",
    "       'from': 'invoices_people_embed',\n",
    "       'localField': 'InvoiceID',\n",
    "       'foreignField': 'InvoiceID',\n",
    "       'as': \"invoice_list\"\n",
    "     }    \n",
    "}\n",
    "\n",
    "query_2 = { \n",
    "        \"$merge\" : {\n",
    "            \"into\" : \"invoicelines_invoices_people_embed\",\n",
    "            \"whenMatched\": \"replace\"\n",
    "        } \n",
    "    }\n",
    "\n",
    "\n",
    "pipeline = [query_1, query_2]\n",
    "\n",
    "r = db.invoicelines.aggregate(pipeline)"
   ]
  },
  {
   "cell_type": "markdown",
   "metadata": {},
   "source": [
    "### orders_people_customers_embed"
   ]
  },
  {
   "cell_type": "code",
   "execution_count": null,
   "metadata": {},
   "outputs": [],
   "source": [
    "query_1 = {\n",
    "    \"$lookup\":\n",
    "    {\n",
    "       'from': 'customers',\n",
    "       'localField': 'CustomerID',\n",
    "       'foreignField': 'CustomerID',\n",
    "       'as': 'CustomerInfo'\n",
    "     }\n",
    "}\n",
    "\n",
    "\n",
    "query_2 = {\n",
    "    \"$lookup\":\n",
    "    {\n",
    "       'from': 'people',\n",
    "       'localField': 'PickedByPersonID',\n",
    "       'foreignField': 'PersonID',\n",
    "       'as': 'PersonInfo'\n",
    "     }\n",
    "}\n",
    "\n",
    "query_3 = { \n",
    "        \"$merge\" : {\n",
    "            \"into\" : \"orders_people_customers_embed\",\n",
    "            \"whenMatched\": \"replace\"\n",
    "    } \n",
    "}\n",
    "\n",
    "\n",
    "pipeline = [query_1, query_2,query_3]\n",
    "\n",
    "r = db.orders.aggregate(pipeline)"
   ]
  },
  {
   "cell_type": "code",
   "execution_count": null,
   "metadata": {},
   "outputs": [],
   "source": []
  },
  {
   "cell_type": "code",
   "execution_count": null,
   "metadata": {},
   "outputs": [],
   "source": []
  },
  {
   "cell_type": "code",
   "execution_count": null,
   "metadata": {},
   "outputs": [],
   "source": []
  }
 ],
 "metadata": {
  "hide_input": false,
  "kernelspec": {
   "display_name": "Python 3 (ipykernel)",
   "language": "python",
   "name": "python3"
  },
  "language_info": {
   "codemirror_mode": {
    "name": "ipython",
    "version": 3
   },
   "file_extension": ".py",
   "mimetype": "text/x-python",
   "name": "python",
   "nbconvert_exporter": "python",
   "pygments_lexer": "ipython3",
   "version": "3.9.7"
  },
  "toc": {
   "base_numbering": 1,
   "nav_menu": {},
   "number_sections": true,
   "sideBar": true,
   "skip_h1_title": false,
   "title_cell": "Table of Contents",
   "title_sidebar": "Contents",
   "toc_cell": false,
   "toc_position": {},
   "toc_section_display": true,
   "toc_window_display": false
  },
  "varInspector": {
   "cols": {
    "lenName": 16,
    "lenType": 16,
    "lenVar": 40
   },
   "kernels_config": {
    "python": {
     "delete_cmd_postfix": "",
     "delete_cmd_prefix": "del ",
     "library": "var_list.py",
     "varRefreshCmd": "print(var_dic_list())"
    },
    "r": {
     "delete_cmd_postfix": ") ",
     "delete_cmd_prefix": "rm(",
     "library": "var_list.r",
     "varRefreshCmd": "cat(var_dic_list()) "
    }
   },
   "types_to_exclude": [
    "module",
    "function",
    "builtin_function_or_method",
    "instance",
    "_Feature"
   ],
   "window_display": false
  }
 },
 "nbformat": 4,
 "nbformat_minor": 4
}
